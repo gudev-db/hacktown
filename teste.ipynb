{
 "cells": [
  {
   "cell_type": "markdown",
   "metadata": {},
   "source": [
    "### 1. Leitura e processamento dos dados\n",
    "### 2. Análise gráfica\n",
    "### 3. Análise descritiva\n",
    "### 4. Correlações\n",
    "### 5. Modelagem\n",
    "### 6. Funcionalidades"
   ]
  },
  {
   "cell_type": "markdown",
   "metadata": {},
   "source": [
    "# 1. Leitura e processamento dos dados"
   ]
  },
  {
   "cell_type": "markdown",
   "metadata": {},
   "source": [
    "## Lendo banco de pontos turísticos"
   ]
  },
  {
   "cell_type": "code",
   "execution_count": 62,
   "metadata": {},
   "outputs": [
    {
     "data": {
      "text/html": [
       "<div>\n",
       "<style scoped>\n",
       "    .dataframe tbody tr th:only-of-type {\n",
       "        vertical-align: middle;\n",
       "    }\n",
       "\n",
       "    .dataframe tbody tr th {\n",
       "        vertical-align: top;\n",
       "    }\n",
       "\n",
       "    .dataframe thead th {\n",
       "        text-align: right;\n",
       "    }\n",
       "</style>\n",
       "<table border=\"1\" class=\"dataframe\">\n",
       "  <thead>\n",
       "    <tr style=\"text-align: right;\">\n",
       "      <th></th>\n",
       "      <th>Nome</th>\n",
       "      <th>Cidade</th>\n",
       "      <th>Tipo</th>\n",
       "      <th>Latitude/Longitude</th>\n",
       "      <th>HorÃ¡rio Funcionamento</th>\n",
       "      <th>Categoria</th>\n",
       "      <th>avaliacao</th>\n",
       "    </tr>\n",
       "  </thead>\n",
       "  <tbody>\n",
       "    <tr>\n",
       "      <th>0</th>\n",
       "      <td>Cachoeira do azeite</td>\n",
       "      <td>Piedade do Rio Grande</td>\n",
       "      <td>Cachoeira</td>\n",
       "      <td>-21.54726161249888, -44.18294297606091</td>\n",
       "      <td>24h</td>\n",
       "      <td>Aberto</td>\n",
       "      <td>4.8</td>\n",
       "    </tr>\n",
       "    <tr>\n",
       "      <th>1</th>\n",
       "      <td>Igreja Nossa senhora do RosÃ¡rio</td>\n",
       "      <td>Piedade do Rio Grande</td>\n",
       "      <td>Igreja</td>\n",
       "      <td>-21.456223587339817, -44.198668769798225</td>\n",
       "      <td>NaN</td>\n",
       "      <td>Fechado</td>\n",
       "      <td>4.8</td>\n",
       "    </tr>\n",
       "    <tr>\n",
       "      <th>2</th>\n",
       "      <td>Igreja de Pedra (Nossa Senhora do RosÃ¡rio)</td>\n",
       "      <td>Coronel Xavier Chaves - MG</td>\n",
       "      <td>igreja</td>\n",
       "      <td>-21.02130878474155, -44.22366983310554</td>\n",
       "      <td>NaN</td>\n",
       "      <td>Fechado</td>\n",
       "      <td>5.0</td>\n",
       "    </tr>\n",
       "    <tr>\n",
       "      <th>3</th>\n",
       "      <td>PraÃ§a Salvador LourenÃ§o</td>\n",
       "      <td>Piedade do Rio Grande</td>\n",
       "      <td>PraÃ§a</td>\n",
       "      <td>-21.45942305470554, -44.197974311525456</td>\n",
       "      <td>24h</td>\n",
       "      <td>Aberto</td>\n",
       "      <td>4.7</td>\n",
       "    </tr>\n",
       "    <tr>\n",
       "      <th>4</th>\n",
       "      <td>Cachoeira do Atalho</td>\n",
       "      <td>Dores dos campos</td>\n",
       "      <td>Cachoeira</td>\n",
       "      <td>-21.101421336137957, -44.0321813889203</td>\n",
       "      <td>24h</td>\n",
       "      <td>Aberto</td>\n",
       "      <td>4.6</td>\n",
       "    </tr>\n",
       "  </tbody>\n",
       "</table>\n",
       "</div>"
      ],
      "text/plain": [
       "                                          Nome                      Cidade  \\\n",
       "0                          Cachoeira do azeite       Piedade do Rio Grande   \n",
       "1             Igreja Nossa senhora do RosÃ¡rio       Piedade do Rio Grande   \n",
       "2  Igreja de Pedra (Nossa Senhora do RosÃ¡rio)  Coronel Xavier Chaves - MG   \n",
       "3                   PraÃ§a Salvador LourenÃ§o        Piedade do Rio Grande   \n",
       "4                         Cachoeira do Atalho             Dores dos campos   \n",
       "\n",
       "        Tipo                        Latitude/Longitude HorÃ¡rio Funcionamento  \\\n",
       "0  Cachoeira    -21.54726161249888, -44.18294297606091                    24h   \n",
       "1     Igreja  -21.456223587339817, -44.198668769798225                    NaN   \n",
       "2     igreja    -21.02130878474155, -44.22366983310554                    NaN   \n",
       "3     PraÃ§a   -21.45942305470554, -44.197974311525456                    24h   \n",
       "4  Cachoeira    -21.101421336137957, -44.0321813889203                    24h   \n",
       "\n",
       "  Categoria  avaliacao  \n",
       "0    Aberto        4.8  \n",
       "1   Fechado        4.8  \n",
       "2   Fechado        5.0  \n",
       "3    Aberto        4.7  \n",
       "4    Aberto        4.6  "
      ]
     },
     "execution_count": 62,
     "metadata": {},
     "output_type": "execute_result"
    }
   ],
   "source": [
    "import pandas as pd\n",
    "pto_tur2 = pd.read_csv(\"ptoreal.csv\", encoding='iso-8859-1')\n",
    "pto_tur2.head()"
   ]
  },
  {
   "cell_type": "markdown",
   "metadata": {},
   "source": [
    "Tratamento de dados"
   ]
  },
  {
   "cell_type": "markdown",
   "metadata": {},
   "source": [
    "Dropando horário de funcionamento por ter muitos dados faltantes"
   ]
  },
  {
   "cell_type": "code",
   "execution_count": null,
   "metadata": {},
   "outputs": [],
   "source": [
    "pto_tur2 = pto_tur2.drop('HorÃ¡rio Funcionamento', axis=1)"
   ]
  },
  {
   "cell_type": "markdown",
   "metadata": {},
   "source": [
    "Transformando coluna Latitude/Longitude em duas"
   ]
  },
  {
   "cell_type": "code",
   "execution_count": 103,
   "metadata": {},
   "outputs": [],
   "source": [
    "pto_tur2[['Latitude', 'Longitude']] = pto_tur2['Latitude/Longitude'].str.split(',', expand=True)\n"
   ]
  },
  {
   "cell_type": "markdown",
   "metadata": {},
   "source": [
    "Dropando a única"
   ]
  },
  {
   "cell_type": "code",
   "execution_count": 51,
   "metadata": {},
   "outputs": [],
   "source": [
    "pto_tur2 = pto_tur2.drop('Latitude/Longitude', axis=1)"
   ]
  },
  {
   "cell_type": "markdown",
   "metadata": {},
   "source": [
    "Removendo vírgula ao final da Latitude"
   ]
  },
  {
   "cell_type": "code",
   "execution_count": 53,
   "metadata": {},
   "outputs": [],
   "source": [
    "pto_tur2['Latitude'] = pto_tur2['Latitude'].str.rstrip(',')"
   ]
  },
  {
   "cell_type": "code",
   "execution_count": 54,
   "metadata": {},
   "outputs": [
    {
     "data": {
      "text/html": [
       "<div>\n",
       "<style scoped>\n",
       "    .dataframe tbody tr th:only-of-type {\n",
       "        vertical-align: middle;\n",
       "    }\n",
       "\n",
       "    .dataframe tbody tr th {\n",
       "        vertical-align: top;\n",
       "    }\n",
       "\n",
       "    .dataframe thead th {\n",
       "        text-align: right;\n",
       "    }\n",
       "</style>\n",
       "<table border=\"1\" class=\"dataframe\">\n",
       "  <thead>\n",
       "    <tr style=\"text-align: right;\">\n",
       "      <th></th>\n",
       "      <th>Nome</th>\n",
       "      <th>Cidade</th>\n",
       "      <th>Tipo</th>\n",
       "      <th>Categoria</th>\n",
       "      <th>AvaliaÃ§Ã£o</th>\n",
       "      <th>Latitude</th>\n",
       "      <th>Longitude</th>\n",
       "    </tr>\n",
       "  </thead>\n",
       "  <tbody>\n",
       "    <tr>\n",
       "      <th>0</th>\n",
       "      <td>Cachoeira do azeite</td>\n",
       "      <td>Piedade do Rio Grande</td>\n",
       "      <td>Cachoeira</td>\n",
       "      <td>Aberto</td>\n",
       "      <td>4.8</td>\n",
       "      <td>-21.54726161249888</td>\n",
       "      <td>-44.18294297606091</td>\n",
       "    </tr>\n",
       "    <tr>\n",
       "      <th>1</th>\n",
       "      <td>Igreja Nossa senhora do RosÃ¡rio</td>\n",
       "      <td>Piedade do Rio Grande</td>\n",
       "      <td>Igreja</td>\n",
       "      <td>Fechado</td>\n",
       "      <td>4.8</td>\n",
       "      <td>-21.456223587339817</td>\n",
       "      <td>-44.198668769798225</td>\n",
       "    </tr>\n",
       "    <tr>\n",
       "      <th>2</th>\n",
       "      <td>Igreja de Pedra (Nossa Senhora do RosÃ¡rio)</td>\n",
       "      <td>Coronel Xavier Chaves - MG</td>\n",
       "      <td>igreja</td>\n",
       "      <td>Fechado</td>\n",
       "      <td>5.0</td>\n",
       "      <td>-21.02130878474155</td>\n",
       "      <td>-44.22366983310554</td>\n",
       "    </tr>\n",
       "    <tr>\n",
       "      <th>3</th>\n",
       "      <td>PraÃ§a Salvador LourenÃ§o</td>\n",
       "      <td>Piedade do Rio Grande</td>\n",
       "      <td>PraÃ§a</td>\n",
       "      <td>Aberto</td>\n",
       "      <td>4.7</td>\n",
       "      <td>-21.45942305470554</td>\n",
       "      <td>-44.197974311525456</td>\n",
       "    </tr>\n",
       "    <tr>\n",
       "      <th>4</th>\n",
       "      <td>Cachoeira do Atalho</td>\n",
       "      <td>Dores dos campos</td>\n",
       "      <td>Cachoeira</td>\n",
       "      <td>Aberto</td>\n",
       "      <td>4.6</td>\n",
       "      <td>-21.101421336137957</td>\n",
       "      <td>-44.0321813889203</td>\n",
       "    </tr>\n",
       "  </tbody>\n",
       "</table>\n",
       "</div>"
      ],
      "text/plain": [
       "                                          Nome                      Cidade  \\\n",
       "0                          Cachoeira do azeite       Piedade do Rio Grande   \n",
       "1             Igreja Nossa senhora do RosÃ¡rio       Piedade do Rio Grande   \n",
       "2  Igreja de Pedra (Nossa Senhora do RosÃ¡rio)  Coronel Xavier Chaves - MG   \n",
       "3                   PraÃ§a Salvador LourenÃ§o        Piedade do Rio Grande   \n",
       "4                         Cachoeira do Atalho             Dores dos campos   \n",
       "\n",
       "        Tipo Categoria  AvaliaÃ§Ã£o             Latitude            Longitude  \n",
       "0  Cachoeira    Aberto          4.8   -21.54726161249888   -44.18294297606091  \n",
       "1     Igreja   Fechado          4.8  -21.456223587339817  -44.198668769798225  \n",
       "2     igreja   Fechado          5.0   -21.02130878474155   -44.22366983310554  \n",
       "3     PraÃ§a    Aberto          4.7   -21.45942305470554  -44.197974311525456  \n",
       "4  Cachoeira    Aberto          4.6  -21.101421336137957    -44.0321813889203  "
      ]
     },
     "execution_count": 54,
     "metadata": {},
     "output_type": "execute_result"
    }
   ],
   "source": [
    "pto_tur2.head()"
   ]
  },
  {
   "cell_type": "markdown",
   "metadata": {},
   "source": [
    "## Lendo banco de dados Turista"
   ]
  },
  {
   "cell_type": "code",
   "execution_count": 72,
   "metadata": {},
   "outputs": [
    {
     "data": {
      "text/html": [
       "<div>\n",
       "<style scoped>\n",
       "    .dataframe tbody tr th:only-of-type {\n",
       "        vertical-align: middle;\n",
       "    }\n",
       "\n",
       "    .dataframe tbody tr th {\n",
       "        vertical-align: top;\n",
       "    }\n",
       "\n",
       "    .dataframe thead th {\n",
       "        text-align: right;\n",
       "    }\n",
       "</style>\n",
       "<table border=\"1\" class=\"dataframe\">\n",
       "  <thead>\n",
       "    <tr style=\"text-align: right;\">\n",
       "      <th></th>\n",
       "      <th>nome</th>\n",
       "      <th>genero</th>\n",
       "      <th>idade</th>\n",
       "      <th>grupo-ou-nao</th>\n",
       "      <th>local-de-origem</th>\n",
       "      <th>primeira-vez</th>\n",
       "      <th>viagens-pela-plataforma</th>\n",
       "    </tr>\n",
       "  </thead>\n",
       "  <tbody>\n",
       "    <tr>\n",
       "      <th>0</th>\n",
       "      <td>Camila</td>\n",
       "      <td>feminino</td>\n",
       "      <td>32</td>\n",
       "      <td>sim</td>\n",
       "      <td>Fortaleza</td>\n",
       "      <td>NÃ£o</td>\n",
       "      <td>4</td>\n",
       "    </tr>\n",
       "    <tr>\n",
       "      <th>1</th>\n",
       "      <td>AndrÃ©</td>\n",
       "      <td>masculino</td>\n",
       "      <td>29</td>\n",
       "      <td>nÃ£o</td>\n",
       "      <td>SÃ£o Paulo</td>\n",
       "      <td>Sim</td>\n",
       "      <td>7</td>\n",
       "    </tr>\n",
       "    <tr>\n",
       "      <th>2</th>\n",
       "      <td>Renata</td>\n",
       "      <td>feminino</td>\n",
       "      <td>27</td>\n",
       "      <td>sim</td>\n",
       "      <td>Rio de Janeiro</td>\n",
       "      <td>NÃ£o</td>\n",
       "      <td>2</td>\n",
       "    </tr>\n",
       "    <tr>\n",
       "      <th>3</th>\n",
       "      <td>Leonardo</td>\n",
       "      <td>masculino</td>\n",
       "      <td>33</td>\n",
       "      <td>sim</td>\n",
       "      <td>Salvador</td>\n",
       "      <td>Sim</td>\n",
       "      <td>5</td>\n",
       "    </tr>\n",
       "    <tr>\n",
       "      <th>4</th>\n",
       "      <td>Juliana</td>\n",
       "      <td>feminino</td>\n",
       "      <td>30</td>\n",
       "      <td>sim</td>\n",
       "      <td>Recife</td>\n",
       "      <td>NÃ£o</td>\n",
       "      <td>4</td>\n",
       "    </tr>\n",
       "  </tbody>\n",
       "</table>\n",
       "</div>"
      ],
      "text/plain": [
       "       nome     genero  idade grupo-ou-nao local-de-origem primeira-vez  \\\n",
       "0    Camila   feminino     32          sim       Fortaleza         NÃ£o   \n",
       "1    AndrÃ©  masculino     29         nÃ£o      SÃ£o Paulo          Sim   \n",
       "2    Renata   feminino     27          sim  Rio de Janeiro         NÃ£o   \n",
       "3  Leonardo  masculino     33          sim        Salvador          Sim   \n",
       "4   Juliana   feminino     30          sim          Recife         NÃ£o   \n",
       "\n",
       "   viagens-pela-plataforma  \n",
       "0                        4  \n",
       "1                        7  \n",
       "2                        2  \n",
       "3                        5  \n",
       "4                        4  "
      ]
     },
     "execution_count": 72,
     "metadata": {},
     "output_type": "execute_result"
    }
   ],
   "source": [
    "import pandas as pd\n",
    "turista = pd.read_csv(\"turista.csv\", encoding='iso-8859-1')\n",
    "turista.head()"
   ]
  },
  {
   "cell_type": "code",
   "execution_count": 75,
   "metadata": {},
   "outputs": [
    {
     "data": {
      "text/html": [
       "<div>\n",
       "<style scoped>\n",
       "    .dataframe tbody tr th:only-of-type {\n",
       "        vertical-align: middle;\n",
       "    }\n",
       "\n",
       "    .dataframe tbody tr th {\n",
       "        vertical-align: top;\n",
       "    }\n",
       "\n",
       "    .dataframe thead th {\n",
       "        text-align: right;\n",
       "    }\n",
       "</style>\n",
       "<table border=\"1\" class=\"dataframe\">\n",
       "  <thead>\n",
       "    <tr style=\"text-align: right;\">\n",
       "      <th></th>\n",
       "      <th>nome</th>\n",
       "      <th>genero</th>\n",
       "      <th>idade</th>\n",
       "      <th>grupo-ou-nao</th>\n",
       "      <th>local-de-origem</th>\n",
       "      <th>primeira-vez</th>\n",
       "      <th>viagens-pela-plataforma</th>\n",
       "    </tr>\n",
       "  </thead>\n",
       "  <tbody>\n",
       "    <tr>\n",
       "      <th>0</th>\n",
       "      <td>Camila</td>\n",
       "      <td>feminino</td>\n",
       "      <td>32</td>\n",
       "      <td>Sim</td>\n",
       "      <td>Fortaleza</td>\n",
       "      <td>Nao</td>\n",
       "      <td>4</td>\n",
       "    </tr>\n",
       "    <tr>\n",
       "      <th>1</th>\n",
       "      <td>AndrÃ©</td>\n",
       "      <td>masculino</td>\n",
       "      <td>29</td>\n",
       "      <td>Nao</td>\n",
       "      <td>SÃ£o Paulo</td>\n",
       "      <td>Sim</td>\n",
       "      <td>7</td>\n",
       "    </tr>\n",
       "    <tr>\n",
       "      <th>2</th>\n",
       "      <td>Renata</td>\n",
       "      <td>feminino</td>\n",
       "      <td>27</td>\n",
       "      <td>Sim</td>\n",
       "      <td>Rio de Janeiro</td>\n",
       "      <td>Nao</td>\n",
       "      <td>2</td>\n",
       "    </tr>\n",
       "    <tr>\n",
       "      <th>3</th>\n",
       "      <td>Leonardo</td>\n",
       "      <td>masculino</td>\n",
       "      <td>33</td>\n",
       "      <td>Sim</td>\n",
       "      <td>Salvador</td>\n",
       "      <td>Sim</td>\n",
       "      <td>5</td>\n",
       "    </tr>\n",
       "    <tr>\n",
       "      <th>4</th>\n",
       "      <td>Juliana</td>\n",
       "      <td>feminino</td>\n",
       "      <td>30</td>\n",
       "      <td>Sim</td>\n",
       "      <td>Recife</td>\n",
       "      <td>Nao</td>\n",
       "      <td>4</td>\n",
       "    </tr>\n",
       "    <tr>\n",
       "      <th>5</th>\n",
       "      <td>Daniel</td>\n",
       "      <td>masculino</td>\n",
       "      <td>28</td>\n",
       "      <td>Sim</td>\n",
       "      <td>BrasÃ­lia</td>\n",
       "      <td>Sim</td>\n",
       "      <td>6</td>\n",
       "    </tr>\n",
       "    <tr>\n",
       "      <th>6</th>\n",
       "      <td>Marina</td>\n",
       "      <td>feminino</td>\n",
       "      <td>26</td>\n",
       "      <td>Sim</td>\n",
       "      <td>FlorianÃ³polis</td>\n",
       "      <td>Nao</td>\n",
       "      <td>2</td>\n",
       "    </tr>\n",
       "    <tr>\n",
       "      <th>7</th>\n",
       "      <td>Carlos</td>\n",
       "      <td>masculino</td>\n",
       "      <td>31</td>\n",
       "      <td>Sim</td>\n",
       "      <td>Porto Alegre</td>\n",
       "      <td>Sim</td>\n",
       "      <td>8</td>\n",
       "    </tr>\n",
       "    <tr>\n",
       "      <th>8</th>\n",
       "      <td>Luiza</td>\n",
       "      <td>feminino</td>\n",
       "      <td>35</td>\n",
       "      <td>Sim</td>\n",
       "      <td>Belo Horizonte</td>\n",
       "      <td>Nao</td>\n",
       "      <td>3</td>\n",
       "    </tr>\n",
       "    <tr>\n",
       "      <th>9</th>\n",
       "      <td>Fernanda</td>\n",
       "      <td>feminino</td>\n",
       "      <td>29</td>\n",
       "      <td>Sim</td>\n",
       "      <td>Curitiba</td>\n",
       "      <td>Sim</td>\n",
       "      <td>6</td>\n",
       "    </tr>\n",
       "    <tr>\n",
       "      <th>10</th>\n",
       "      <td>Rafael</td>\n",
       "      <td>masculino</td>\n",
       "      <td>36</td>\n",
       "      <td>Sim</td>\n",
       "      <td>Manaus</td>\n",
       "      <td>Nao</td>\n",
       "      <td>1</td>\n",
       "    </tr>\n",
       "    <tr>\n",
       "      <th>11</th>\n",
       "      <td>JÃ©ssica</td>\n",
       "      <td>feminino</td>\n",
       "      <td>25</td>\n",
       "      <td>Sim</td>\n",
       "      <td>BelÃ©m</td>\n",
       "      <td>Sim</td>\n",
       "      <td>5</td>\n",
       "    </tr>\n",
       "    <tr>\n",
       "      <th>12</th>\n",
       "      <td>Henrique</td>\n",
       "      <td>masculino</td>\n",
       "      <td>32</td>\n",
       "      <td>Nao</td>\n",
       "      <td>Porto Alegre</td>\n",
       "      <td>Nao</td>\n",
       "      <td>2</td>\n",
       "    </tr>\n",
       "    <tr>\n",
       "      <th>13</th>\n",
       "      <td>Aline</td>\n",
       "      <td>feminino</td>\n",
       "      <td>30</td>\n",
       "      <td>Sim</td>\n",
       "      <td>Recife</td>\n",
       "      <td>Sim</td>\n",
       "      <td>4</td>\n",
       "    </tr>\n",
       "    <tr>\n",
       "      <th>14</th>\n",
       "      <td>Guilherme</td>\n",
       "      <td>masculino</td>\n",
       "      <td>27</td>\n",
       "      <td>Sim</td>\n",
       "      <td>Salvador</td>\n",
       "      <td>Sim</td>\n",
       "      <td>7</td>\n",
       "    </tr>\n",
       "    <tr>\n",
       "      <th>15</th>\n",
       "      <td>Larissa</td>\n",
       "      <td>feminino</td>\n",
       "      <td>28</td>\n",
       "      <td>Sim</td>\n",
       "      <td>SÃ£o Paulo</td>\n",
       "      <td>Sim</td>\n",
       "      <td>6</td>\n",
       "    </tr>\n",
       "    <tr>\n",
       "      <th>16</th>\n",
       "      <td>Gustavo</td>\n",
       "      <td>masculino</td>\n",
       "      <td>33</td>\n",
       "      <td>Sim</td>\n",
       "      <td>Rio de Janeiro</td>\n",
       "      <td>Nao</td>\n",
       "      <td>3</td>\n",
       "    </tr>\n",
       "    <tr>\n",
       "      <th>17</th>\n",
       "      <td>Paula</td>\n",
       "      <td>feminino</td>\n",
       "      <td>31</td>\n",
       "      <td>Sim</td>\n",
       "      <td>BrasÃ­lia</td>\n",
       "      <td>Nao</td>\n",
       "      <td>2</td>\n",
       "    </tr>\n",
       "    <tr>\n",
       "      <th>18</th>\n",
       "      <td>Marcelo</td>\n",
       "      <td>masculino</td>\n",
       "      <td>30</td>\n",
       "      <td>Sim</td>\n",
       "      <td>FlorianÃ³polis</td>\n",
       "      <td>Sim</td>\n",
       "      <td>5</td>\n",
       "    </tr>\n",
       "    <tr>\n",
       "      <th>19</th>\n",
       "      <td>Beatriz</td>\n",
       "      <td>feminino</td>\n",
       "      <td>26</td>\n",
       "      <td>Sim</td>\n",
       "      <td>Manaus</td>\n",
       "      <td>Sim</td>\n",
       "      <td>4</td>\n",
       "    </tr>\n",
       "    <tr>\n",
       "      <th>20</th>\n",
       "      <td>Matheus</td>\n",
       "      <td>masculino</td>\n",
       "      <td>29</td>\n",
       "      <td>Sim</td>\n",
       "      <td>Belo Horizonte</td>\n",
       "      <td>Sim</td>\n",
       "      <td>8</td>\n",
       "    </tr>\n",
       "    <tr>\n",
       "      <th>21</th>\n",
       "      <td>PatrÃ­cia</td>\n",
       "      <td>feminino</td>\n",
       "      <td>28</td>\n",
       "      <td>Sim</td>\n",
       "      <td>Curitiba</td>\n",
       "      <td>Sim</td>\n",
       "      <td>6</td>\n",
       "    </tr>\n",
       "    <tr>\n",
       "      <th>22</th>\n",
       "      <td>Lucas</td>\n",
       "      <td>masculino</td>\n",
       "      <td>35</td>\n",
       "      <td>Sim</td>\n",
       "      <td>Porto Alegre</td>\n",
       "      <td>Nao</td>\n",
       "      <td>3</td>\n",
       "    </tr>\n",
       "    <tr>\n",
       "      <th>23</th>\n",
       "      <td>LetÃ­cia</td>\n",
       "      <td>feminino</td>\n",
       "      <td>29</td>\n",
       "      <td>Sim</td>\n",
       "      <td>BelÃ©m</td>\n",
       "      <td>Sim</td>\n",
       "      <td>5</td>\n",
       "    </tr>\n",
       "    <tr>\n",
       "      <th>24</th>\n",
       "      <td>Diego</td>\n",
       "      <td>masculino</td>\n",
       "      <td>31</td>\n",
       "      <td>Sim</td>\n",
       "      <td>Fortaleza</td>\n",
       "      <td>Sim</td>\n",
       "      <td>7</td>\n",
       "    </tr>\n",
       "    <tr>\n",
       "      <th>25</th>\n",
       "      <td>Isadora</td>\n",
       "      <td>feminino</td>\n",
       "      <td>27</td>\n",
       "      <td>Sim</td>\n",
       "      <td>Rio de Janeiro</td>\n",
       "      <td>Nao</td>\n",
       "      <td>2</td>\n",
       "    </tr>\n",
       "    <tr>\n",
       "      <th>26</th>\n",
       "      <td>Felipe</td>\n",
       "      <td>masculino</td>\n",
       "      <td>32</td>\n",
       "      <td>Sim</td>\n",
       "      <td>SÃ£o Paulo</td>\n",
       "      <td>Sim</td>\n",
       "      <td>6</td>\n",
       "    </tr>\n",
       "    <tr>\n",
       "      <th>27</th>\n",
       "      <td>Fernanda</td>\n",
       "      <td>feminino</td>\n",
       "      <td>33</td>\n",
       "      <td>Sim</td>\n",
       "      <td>Manaus</td>\n",
       "      <td>Nao</td>\n",
       "      <td>1</td>\n",
       "    </tr>\n",
       "    <tr>\n",
       "      <th>28</th>\n",
       "      <td>Bruno</td>\n",
       "      <td>masculino</td>\n",
       "      <td>30</td>\n",
       "      <td>Sim</td>\n",
       "      <td>Recife</td>\n",
       "      <td>Nao</td>\n",
       "      <td>4</td>\n",
       "    </tr>\n",
       "    <tr>\n",
       "      <th>29</th>\n",
       "      <td>Luana</td>\n",
       "      <td>feminino</td>\n",
       "      <td>25</td>\n",
       "      <td>Sim</td>\n",
       "      <td>Porto Alegre</td>\n",
       "      <td>Sim</td>\n",
       "      <td>9</td>\n",
       "    </tr>\n",
       "    <tr>\n",
       "      <th>30</th>\n",
       "      <td>Caio</td>\n",
       "      <td>masculino</td>\n",
       "      <td>26</td>\n",
       "      <td>Sim</td>\n",
       "      <td>Curitiba</td>\n",
       "      <td>Sim</td>\n",
       "      <td>5</td>\n",
       "    </tr>\n",
       "    <tr>\n",
       "      <th>31</th>\n",
       "      <td>Aline</td>\n",
       "      <td>feminino</td>\n",
       "      <td>34</td>\n",
       "      <td>Sim</td>\n",
       "      <td>Salvador</td>\n",
       "      <td>Sim</td>\n",
       "      <td>8</td>\n",
       "    </tr>\n",
       "    <tr>\n",
       "      <th>32</th>\n",
       "      <td>Vitor</td>\n",
       "      <td>masculino</td>\n",
       "      <td>31</td>\n",
       "      <td>Sim</td>\n",
       "      <td>FlorianÃ³polis</td>\n",
       "      <td>Nao</td>\n",
       "      <td>3</td>\n",
       "    </tr>\n",
       "    <tr>\n",
       "      <th>33</th>\n",
       "      <td>Gabriela</td>\n",
       "      <td>feminino</td>\n",
       "      <td>29</td>\n",
       "      <td>Sim</td>\n",
       "      <td>Belo Horizonte</td>\n",
       "      <td>Nao</td>\n",
       "      <td>2</td>\n",
       "    </tr>\n",
       "    <tr>\n",
       "      <th>34</th>\n",
       "      <td>Marcelo</td>\n",
       "      <td>masculino</td>\n",
       "      <td>28</td>\n",
       "      <td>Sim</td>\n",
       "      <td>Manaus</td>\n",
       "      <td>Sim</td>\n",
       "      <td>7</td>\n",
       "    </tr>\n",
       "    <tr>\n",
       "      <th>35</th>\n",
       "      <td>Larissa</td>\n",
       "      <td>feminino</td>\n",
       "      <td>27</td>\n",
       "      <td>Sim</td>\n",
       "      <td>BrasÃ­lia</td>\n",
       "      <td>Nao</td>\n",
       "      <td>2</td>\n",
       "    </tr>\n",
       "    <tr>\n",
       "      <th>36</th>\n",
       "      <td>Rafael</td>\n",
       "      <td>masculino</td>\n",
       "      <td>34</td>\n",
       "      <td>Sim</td>\n",
       "      <td>BelÃ©m</td>\n",
       "      <td>Sim</td>\n",
       "      <td>6</td>\n",
       "    </tr>\n",
       "    <tr>\n",
       "      <th>37</th>\n",
       "      <td>Juliana</td>\n",
       "      <td>feminino</td>\n",
       "      <td>33</td>\n",
       "      <td>Sim</td>\n",
       "      <td>Rio de Janeiro</td>\n",
       "      <td>Nao</td>\n",
       "      <td>3</td>\n",
       "    </tr>\n",
       "    <tr>\n",
       "      <th>38</th>\n",
       "      <td>Thiago</td>\n",
       "      <td>masculino</td>\n",
       "      <td>35</td>\n",
       "      <td>Sim</td>\n",
       "      <td>SÃ£o Paulo</td>\n",
       "      <td>Sim</td>\n",
       "      <td>8</td>\n",
       "    </tr>\n",
       "    <tr>\n",
       "      <th>39</th>\n",
       "      <td>Camila</td>\n",
       "      <td>feminino</td>\n",
       "      <td>31</td>\n",
       "      <td>Sim</td>\n",
       "      <td>Porto Alegre</td>\n",
       "      <td>Sim</td>\n",
       "      <td>5</td>\n",
       "    </tr>\n",
       "    <tr>\n",
       "      <th>40</th>\n",
       "      <td>AndrÃ©</td>\n",
       "      <td>masculino</td>\n",
       "      <td>30</td>\n",
       "      <td>Sim</td>\n",
       "      <td>Fortaleza</td>\n",
       "      <td>Nao</td>\n",
       "      <td>2</td>\n",
       "    </tr>\n",
       "    <tr>\n",
       "      <th>41</th>\n",
       "      <td>Renata</td>\n",
       "      <td>feminino</td>\n",
       "      <td>29</td>\n",
       "      <td>Sim</td>\n",
       "      <td>Recife</td>\n",
       "      <td>Sim</td>\n",
       "      <td>4</td>\n",
       "    </tr>\n",
       "    <tr>\n",
       "      <th>42</th>\n",
       "      <td>Leonardo</td>\n",
       "      <td>masculino</td>\n",
       "      <td>32</td>\n",
       "      <td>Sim</td>\n",
       "      <td>Curitiba</td>\n",
       "      <td>Nao</td>\n",
       "      <td>1</td>\n",
       "    </tr>\n",
       "    <tr>\n",
       "      <th>43</th>\n",
       "      <td>Juliana</td>\n",
       "      <td>feminino</td>\n",
       "      <td>27</td>\n",
       "      <td>Sim</td>\n",
       "      <td>Salvador</td>\n",
       "      <td>Sim</td>\n",
       "      <td>5</td>\n",
       "    </tr>\n",
       "    <tr>\n",
       "      <th>44</th>\n",
       "      <td>Daniel</td>\n",
       "      <td>masculino</td>\n",
       "      <td>26</td>\n",
       "      <td>Sim</td>\n",
       "      <td>Manaus</td>\n",
       "      <td>Sim</td>\n",
       "      <td>6</td>\n",
       "    </tr>\n",
       "    <tr>\n",
       "      <th>45</th>\n",
       "      <td>Isabela</td>\n",
       "      <td>feminino</td>\n",
       "      <td>28</td>\n",
       "      <td>Sim</td>\n",
       "      <td>FlorianÃ³polis</td>\n",
       "      <td>Sim</td>\n",
       "      <td>7</td>\n",
       "    </tr>\n",
       "    <tr>\n",
       "      <th>46</th>\n",
       "      <td>Ricardo</td>\n",
       "      <td>masculino</td>\n",
       "      <td>34</td>\n",
       "      <td>Sim</td>\n",
       "      <td>Porto Alegre</td>\n",
       "      <td>Sim</td>\n",
       "      <td>8</td>\n",
       "    </tr>\n",
       "    <tr>\n",
       "      <th>47</th>\n",
       "      <td>Ana</td>\n",
       "      <td>feminino</td>\n",
       "      <td>31</td>\n",
       "      <td>Sim</td>\n",
       "      <td>Rio de Janeiro</td>\n",
       "      <td>Nao</td>\n",
       "      <td>2</td>\n",
       "    </tr>\n",
       "    <tr>\n",
       "      <th>48</th>\n",
       "      <td>JoÃ£o</td>\n",
       "      <td>masculino</td>\n",
       "      <td>27</td>\n",
       "      <td>Nao</td>\n",
       "      <td>Salvador</td>\n",
       "      <td>Sim</td>\n",
       "      <td>5</td>\n",
       "    </tr>\n",
       "    <tr>\n",
       "      <th>49</th>\n",
       "      <td>Maria</td>\n",
       "      <td>feminino</td>\n",
       "      <td>40</td>\n",
       "      <td>Sim</td>\n",
       "      <td>Recife</td>\n",
       "      <td>Nao</td>\n",
       "      <td>4</td>\n",
       "    </tr>\n",
       "  </tbody>\n",
       "</table>\n",
       "</div>"
      ],
      "text/plain": [
       "         nome     genero  idade grupo-ou-nao local-de-origem primeira-vez  \\\n",
       "0      Camila   feminino     32          Sim       Fortaleza          Nao   \n",
       "1      AndrÃ©  masculino     29          Nao      SÃ£o Paulo          Sim   \n",
       "2      Renata   feminino     27          Sim  Rio de Janeiro          Nao   \n",
       "3    Leonardo  masculino     33          Sim        Salvador          Sim   \n",
       "4     Juliana   feminino     30          Sim          Recife          Nao   \n",
       "5      Daniel  masculino     28          Sim       BrasÃ­lia          Sim   \n",
       "6      Marina   feminino     26          Sim  FlorianÃ³polis          Nao   \n",
       "7      Carlos  masculino     31          Sim    Porto Alegre          Sim   \n",
       "8       Luiza   feminino     35          Sim  Belo Horizonte          Nao   \n",
       "9    Fernanda   feminino     29          Sim        Curitiba          Sim   \n",
       "10     Rafael  masculino     36          Sim          Manaus          Nao   \n",
       "11   JÃ©ssica   feminino     25          Sim          BelÃ©m          Sim   \n",
       "12   Henrique  masculino     32          Nao    Porto Alegre          Nao   \n",
       "13      Aline   feminino     30          Sim          Recife          Sim   \n",
       "14  Guilherme  masculino     27          Sim        Salvador          Sim   \n",
       "15    Larissa   feminino     28          Sim      SÃ£o Paulo          Sim   \n",
       "16    Gustavo  masculino     33          Sim  Rio de Janeiro          Nao   \n",
       "17      Paula   feminino     31          Sim       BrasÃ­lia          Nao   \n",
       "18    Marcelo  masculino     30          Sim  FlorianÃ³polis          Sim   \n",
       "19    Beatriz   feminino     26          Sim          Manaus          Sim   \n",
       "20    Matheus  masculino     29          Sim  Belo Horizonte          Sim   \n",
       "21  PatrÃ­cia   feminino     28          Sim        Curitiba          Sim   \n",
       "22      Lucas  masculino     35          Sim    Porto Alegre          Nao   \n",
       "23   LetÃ­cia   feminino     29          Sim          BelÃ©m          Sim   \n",
       "24      Diego  masculino     31          Sim       Fortaleza          Sim   \n",
       "25    Isadora   feminino     27          Sim  Rio de Janeiro          Nao   \n",
       "26     Felipe  masculino     32          Sim      SÃ£o Paulo          Sim   \n",
       "27   Fernanda   feminino     33          Sim          Manaus          Nao   \n",
       "28      Bruno  masculino     30          Sim          Recife          Nao   \n",
       "29      Luana   feminino     25          Sim    Porto Alegre          Sim   \n",
       "30       Caio  masculino     26          Sim        Curitiba          Sim   \n",
       "31      Aline   feminino     34          Sim        Salvador          Sim   \n",
       "32      Vitor  masculino     31          Sim  FlorianÃ³polis          Nao   \n",
       "33   Gabriela   feminino     29          Sim  Belo Horizonte          Nao   \n",
       "34    Marcelo  masculino     28          Sim          Manaus          Sim   \n",
       "35    Larissa   feminino     27          Sim       BrasÃ­lia          Nao   \n",
       "36     Rafael  masculino     34          Sim          BelÃ©m          Sim   \n",
       "37    Juliana   feminino     33          Sim  Rio de Janeiro          Nao   \n",
       "38     Thiago  masculino     35          Sim      SÃ£o Paulo          Sim   \n",
       "39     Camila   feminino     31          Sim    Porto Alegre          Sim   \n",
       "40     AndrÃ©  masculino     30          Sim       Fortaleza          Nao   \n",
       "41     Renata   feminino     29          Sim          Recife          Sim   \n",
       "42   Leonardo  masculino     32          Sim        Curitiba          Nao   \n",
       "43    Juliana   feminino     27          Sim        Salvador          Sim   \n",
       "44     Daniel  masculino     26          Sim          Manaus          Sim   \n",
       "45    Isabela   feminino     28          Sim  FlorianÃ³polis          Sim   \n",
       "46    Ricardo  masculino     34          Sim    Porto Alegre          Sim   \n",
       "47        Ana   feminino     31          Sim  Rio de Janeiro          Nao   \n",
       "48      JoÃ£o  masculino     27          Nao        Salvador          Sim   \n",
       "49      Maria   feminino     40          Sim          Recife          Nao   \n",
       "\n",
       "    viagens-pela-plataforma  \n",
       "0                         4  \n",
       "1                         7  \n",
       "2                         2  \n",
       "3                         5  \n",
       "4                         4  \n",
       "5                         6  \n",
       "6                         2  \n",
       "7                         8  \n",
       "8                         3  \n",
       "9                         6  \n",
       "10                        1  \n",
       "11                        5  \n",
       "12                        2  \n",
       "13                        4  \n",
       "14                        7  \n",
       "15                        6  \n",
       "16                        3  \n",
       "17                        2  \n",
       "18                        5  \n",
       "19                        4  \n",
       "20                        8  \n",
       "21                        6  \n",
       "22                        3  \n",
       "23                        5  \n",
       "24                        7  \n",
       "25                        2  \n",
       "26                        6  \n",
       "27                        1  \n",
       "28                        4  \n",
       "29                        9  \n",
       "30                        5  \n",
       "31                        8  \n",
       "32                        3  \n",
       "33                        2  \n",
       "34                        7  \n",
       "35                        2  \n",
       "36                        6  \n",
       "37                        3  \n",
       "38                        8  \n",
       "39                        5  \n",
       "40                        2  \n",
       "41                        4  \n",
       "42                        1  \n",
       "43                        5  \n",
       "44                        6  \n",
       "45                        7  \n",
       "46                        8  \n",
       "47                        2  \n",
       "48                        5  \n",
       "49                        4  "
      ]
     },
     "execution_count": 75,
     "metadata": {},
     "output_type": "execute_result"
    }
   ],
   "source": [
    "turista.replace({'NÃ£o': 'Nao','nÃ£o' : 'Nao','sim': 'Sim'})"
   ]
  },
  {
   "cell_type": "code",
   "execution_count": 104,
   "metadata": {},
   "outputs": [
    {
     "data": {
      "text/html": [
       "<div>\n",
       "<style scoped>\n",
       "    .dataframe tbody tr th:only-of-type {\n",
       "        vertical-align: middle;\n",
       "    }\n",
       "\n",
       "    .dataframe tbody tr th {\n",
       "        vertical-align: top;\n",
       "    }\n",
       "\n",
       "    .dataframe thead th {\n",
       "        text-align: right;\n",
       "    }\n",
       "</style>\n",
       "<table border=\"1\" class=\"dataframe\">\n",
       "  <thead>\n",
       "    <tr style=\"text-align: right;\">\n",
       "      <th></th>\n",
       "      <th>nome</th>\n",
       "      <th>genero</th>\n",
       "      <th>idade</th>\n",
       "      <th>grupo-ou-nao</th>\n",
       "      <th>local-de-origem</th>\n",
       "      <th>primeira-vez</th>\n",
       "      <th>viagens-pela-plataforma</th>\n",
       "    </tr>\n",
       "  </thead>\n",
       "  <tbody>\n",
       "    <tr>\n",
       "      <th>0</th>\n",
       "      <td>Camila</td>\n",
       "      <td>feminino</td>\n",
       "      <td>32</td>\n",
       "      <td>sim</td>\n",
       "      <td>Fortaleza</td>\n",
       "      <td>NÃ£o</td>\n",
       "      <td>4</td>\n",
       "    </tr>\n",
       "    <tr>\n",
       "      <th>1</th>\n",
       "      <td>AndrÃ©</td>\n",
       "      <td>masculino</td>\n",
       "      <td>29</td>\n",
       "      <td>nÃ£o</td>\n",
       "      <td>SÃ£o Paulo</td>\n",
       "      <td>Sim</td>\n",
       "      <td>7</td>\n",
       "    </tr>\n",
       "    <tr>\n",
       "      <th>2</th>\n",
       "      <td>Renata</td>\n",
       "      <td>feminino</td>\n",
       "      <td>27</td>\n",
       "      <td>sim</td>\n",
       "      <td>Rio de Janeiro</td>\n",
       "      <td>NÃ£o</td>\n",
       "      <td>2</td>\n",
       "    </tr>\n",
       "    <tr>\n",
       "      <th>3</th>\n",
       "      <td>Leonardo</td>\n",
       "      <td>masculino</td>\n",
       "      <td>33</td>\n",
       "      <td>sim</td>\n",
       "      <td>Salvador</td>\n",
       "      <td>Sim</td>\n",
       "      <td>5</td>\n",
       "    </tr>\n",
       "    <tr>\n",
       "      <th>4</th>\n",
       "      <td>Juliana</td>\n",
       "      <td>feminino</td>\n",
       "      <td>30</td>\n",
       "      <td>sim</td>\n",
       "      <td>Recife</td>\n",
       "      <td>NÃ£o</td>\n",
       "      <td>4</td>\n",
       "    </tr>\n",
       "  </tbody>\n",
       "</table>\n",
       "</div>"
      ],
      "text/plain": [
       "       nome     genero  idade grupo-ou-nao local-de-origem primeira-vez  \\\n",
       "0    Camila   feminino     32          sim       Fortaleza         NÃ£o   \n",
       "1    AndrÃ©  masculino     29         nÃ£o      SÃ£o Paulo          Sim   \n",
       "2    Renata   feminino     27          sim  Rio de Janeiro         NÃ£o   \n",
       "3  Leonardo  masculino     33          sim        Salvador          Sim   \n",
       "4   Juliana   feminino     30          sim          Recife         NÃ£o   \n",
       "\n",
       "   viagens-pela-plataforma  \n",
       "0                        4  \n",
       "1                        7  \n",
       "2                        2  \n",
       "3                        5  \n",
       "4                        4  "
      ]
     },
     "execution_count": 104,
     "metadata": {},
     "output_type": "execute_result"
    }
   ],
   "source": [
    "turista.head()"
   ]
  },
  {
   "cell_type": "code",
   "execution_count": 107,
   "metadata": {},
   "outputs": [
    {
     "data": {
      "text/html": [
       "<div>\n",
       "<style scoped>\n",
       "    .dataframe tbody tr th:only-of-type {\n",
       "        vertical-align: middle;\n",
       "    }\n",
       "\n",
       "    .dataframe tbody tr th {\n",
       "        vertical-align: top;\n",
       "    }\n",
       "\n",
       "    .dataframe thead th {\n",
       "        text-align: right;\n",
       "    }\n",
       "</style>\n",
       "<table border=\"1\" class=\"dataframe\">\n",
       "  <thead>\n",
       "    <tr style=\"text-align: right;\">\n",
       "      <th></th>\n",
       "      <th>Nome</th>\n",
       "      <th>Cidade</th>\n",
       "      <th>Tipo</th>\n",
       "      <th>HorÃ¡rio Funcionamento</th>\n",
       "      <th>Categoria</th>\n",
       "      <th>avaliacao</th>\n",
       "      <th>Latitude</th>\n",
       "      <th>Longitude</th>\n",
       "    </tr>\n",
       "  </thead>\n",
       "  <tbody>\n",
       "    <tr>\n",
       "      <th>0</th>\n",
       "      <td>Cachoeira do azeite</td>\n",
       "      <td>Piedade do Rio Grande</td>\n",
       "      <td>Cachoeira</td>\n",
       "      <td>24h</td>\n",
       "      <td>Aberto</td>\n",
       "      <td>4.8</td>\n",
       "      <td>-21.54726161249888</td>\n",
       "      <td>-44.18294297606091</td>\n",
       "    </tr>\n",
       "    <tr>\n",
       "      <th>1</th>\n",
       "      <td>Igreja Nossa senhora do RosÃ¡rio</td>\n",
       "      <td>Piedade do Rio Grande</td>\n",
       "      <td>Igreja</td>\n",
       "      <td>NaN</td>\n",
       "      <td>Fechado</td>\n",
       "      <td>4.8</td>\n",
       "      <td>-21.456223587339817</td>\n",
       "      <td>-44.198668769798225</td>\n",
       "    </tr>\n",
       "    <tr>\n",
       "      <th>2</th>\n",
       "      <td>Igreja de Pedra (Nossa Senhora do RosÃ¡rio)</td>\n",
       "      <td>Coronel Xavier Chaves - MG</td>\n",
       "      <td>igreja</td>\n",
       "      <td>NaN</td>\n",
       "      <td>Fechado</td>\n",
       "      <td>5.0</td>\n",
       "      <td>-21.02130878474155</td>\n",
       "      <td>-44.22366983310554</td>\n",
       "    </tr>\n",
       "    <tr>\n",
       "      <th>3</th>\n",
       "      <td>PraÃ§a Salvador LourenÃ§o</td>\n",
       "      <td>Piedade do Rio Grande</td>\n",
       "      <td>PraÃ§a</td>\n",
       "      <td>24h</td>\n",
       "      <td>Aberto</td>\n",
       "      <td>4.7</td>\n",
       "      <td>-21.45942305470554</td>\n",
       "      <td>-44.197974311525456</td>\n",
       "    </tr>\n",
       "    <tr>\n",
       "      <th>4</th>\n",
       "      <td>Cachoeira do Atalho</td>\n",
       "      <td>Dores dos campos</td>\n",
       "      <td>Cachoeira</td>\n",
       "      <td>24h</td>\n",
       "      <td>Aberto</td>\n",
       "      <td>4.6</td>\n",
       "      <td>-21.101421336137957</td>\n",
       "      <td>-44.0321813889203</td>\n",
       "    </tr>\n",
       "  </tbody>\n",
       "</table>\n",
       "</div>"
      ],
      "text/plain": [
       "                                          Nome                      Cidade  \\\n",
       "0                          Cachoeira do azeite       Piedade do Rio Grande   \n",
       "1             Igreja Nossa senhora do RosÃ¡rio       Piedade do Rio Grande   \n",
       "2  Igreja de Pedra (Nossa Senhora do RosÃ¡rio)  Coronel Xavier Chaves - MG   \n",
       "3                   PraÃ§a Salvador LourenÃ§o        Piedade do Rio Grande   \n",
       "4                         Cachoeira do Atalho             Dores dos campos   \n",
       "\n",
       "        Tipo HorÃ¡rio Funcionamento Categoria  avaliacao             Latitude  \\\n",
       "0  Cachoeira                    24h    Aberto        4.8   -21.54726161249888   \n",
       "1     Igreja                    NaN   Fechado        4.8  -21.456223587339817   \n",
       "2     igreja                    NaN   Fechado        5.0   -21.02130878474155   \n",
       "3     PraÃ§a                    24h    Aberto        4.7   -21.45942305470554   \n",
       "4  Cachoeira                    24h    Aberto        4.6  -21.101421336137957   \n",
       "\n",
       "              Longitude  \n",
       "0    -44.18294297606091  \n",
       "1   -44.198668769798225  \n",
       "2    -44.22366983310554  \n",
       "3   -44.197974311525456  \n",
       "4     -44.0321813889203  "
      ]
     },
     "execution_count": 107,
     "metadata": {},
     "output_type": "execute_result"
    }
   ],
   "source": [
    "pto_tur2.head()"
   ]
  },
  {
   "cell_type": "code",
   "execution_count": 112,
   "metadata": {},
   "outputs": [],
   "source": [
    "pto_tur2 = pd.get_dummies(data=pto_tur2, columns=['Tipo', 'Cidade','Categoria'])"
   ]
  },
  {
   "cell_type": "markdown",
   "metadata": {},
   "source": [
    "Clustering - Pontos Turísticos"
   ]
  },
  {
   "cell_type": "code",
   "execution_count": 137,
   "metadata": {},
   "outputs": [
    {
     "name": "stderr",
     "output_type": "stream",
     "text": [
      "c:\\Users\\gugah\\AppData\\Local\\Programs\\Python\\Python311\\Lib\\site-packages\\sklearn\\cluster\\_kmeans.py:870: FutureWarning: The default value of `n_init` will change from 10 to 'auto' in 1.4. Set the value of `n_init` explicitly to suppress the warning\n",
      "  warnings.warn(\n"
     ]
    }
   ],
   "source": [
    "from sklearn.cluster import KMeans\n",
    "\n",
    "\n",
    "km = KMeans(n_clusters=5).fit(pto_tur2)\n",
    "\n",
    "cluster_map = pd.DataFrame()\n",
    "cluster_map['data_index'] = pto_tur2.index.values\n",
    "cluster_map['cluster'] = km.labels_"
   ]
  },
  {
   "cell_type": "code",
   "execution_count": 140,
   "metadata": {},
   "outputs": [
    {
     "data": {
      "text/html": [
       "<div>\n",
       "<style scoped>\n",
       "    .dataframe tbody tr th:only-of-type {\n",
       "        vertical-align: middle;\n",
       "    }\n",
       "\n",
       "    .dataframe tbody tr th {\n",
       "        vertical-align: top;\n",
       "    }\n",
       "\n",
       "    .dataframe thead th {\n",
       "        text-align: right;\n",
       "    }\n",
       "</style>\n",
       "<table border=\"1\" class=\"dataframe\">\n",
       "  <thead>\n",
       "    <tr style=\"text-align: right;\">\n",
       "      <th></th>\n",
       "      <th>data_index</th>\n",
       "      <th>cluster</th>\n",
       "    </tr>\n",
       "  </thead>\n",
       "  <tbody>\n",
       "    <tr>\n",
       "      <th>2</th>\n",
       "      <td>2</td>\n",
       "      <td>1</td>\n",
       "    </tr>\n",
       "    <tr>\n",
       "      <th>11</th>\n",
       "      <td>11</td>\n",
       "      <td>1</td>\n",
       "    </tr>\n",
       "    <tr>\n",
       "      <th>14</th>\n",
       "      <td>14</td>\n",
       "      <td>1</td>\n",
       "    </tr>\n",
       "    <tr>\n",
       "      <th>15</th>\n",
       "      <td>15</td>\n",
       "      <td>1</td>\n",
       "    </tr>\n",
       "    <tr>\n",
       "      <th>16</th>\n",
       "      <td>16</td>\n",
       "      <td>1</td>\n",
       "    </tr>\n",
       "  </tbody>\n",
       "</table>\n",
       "</div>"
      ],
      "text/plain": [
       "    data_index  cluster\n",
       "2            2        1\n",
       "11          11        1\n",
       "14          14        1\n",
       "15          15        1\n",
       "16          16        1"
      ]
     },
     "execution_count": 140,
     "metadata": {},
     "output_type": "execute_result"
    }
   ],
   "source": [
    "cluster_map[cluster_map.cluster == 1]"
   ]
  },
  {
   "cell_type": "code",
   "execution_count": 141,
   "metadata": {},
   "outputs": [
    {
     "data": {
      "text/html": [
       "<div>\n",
       "<style scoped>\n",
       "    .dataframe tbody tr th:only-of-type {\n",
       "        vertical-align: middle;\n",
       "    }\n",
       "\n",
       "    .dataframe tbody tr th {\n",
       "        vertical-align: top;\n",
       "    }\n",
       "\n",
       "    .dataframe thead th {\n",
       "        text-align: right;\n",
       "    }\n",
       "</style>\n",
       "<table border=\"1\" class=\"dataframe\">\n",
       "  <thead>\n",
       "    <tr style=\"text-align: right;\">\n",
       "      <th></th>\n",
       "      <th>data_index</th>\n",
       "      <th>cluster</th>\n",
       "    </tr>\n",
       "  </thead>\n",
       "  <tbody>\n",
       "    <tr>\n",
       "      <th>1</th>\n",
       "      <td>1</td>\n",
       "      <td>2</td>\n",
       "    </tr>\n",
       "    <tr>\n",
       "      <th>7</th>\n",
       "      <td>7</td>\n",
       "      <td>2</td>\n",
       "    </tr>\n",
       "    <tr>\n",
       "      <th>8</th>\n",
       "      <td>8</td>\n",
       "      <td>2</td>\n",
       "    </tr>\n",
       "    <tr>\n",
       "      <th>10</th>\n",
       "      <td>10</td>\n",
       "      <td>2</td>\n",
       "    </tr>\n",
       "    <tr>\n",
       "      <th>13</th>\n",
       "      <td>13</td>\n",
       "      <td>2</td>\n",
       "    </tr>\n",
       "    <tr>\n",
       "      <th>17</th>\n",
       "      <td>17</td>\n",
       "      <td>2</td>\n",
       "    </tr>\n",
       "    <tr>\n",
       "      <th>20</th>\n",
       "      <td>20</td>\n",
       "      <td>2</td>\n",
       "    </tr>\n",
       "  </tbody>\n",
       "</table>\n",
       "</div>"
      ],
      "text/plain": [
       "    data_index  cluster\n",
       "1            1        2\n",
       "7            7        2\n",
       "8            8        2\n",
       "10          10        2\n",
       "13          13        2\n",
       "17          17        2\n",
       "20          20        2"
      ]
     },
     "execution_count": 141,
     "metadata": {},
     "output_type": "execute_result"
    }
   ],
   "source": [
    "cluster_map[cluster_map.cluster == 2]"
   ]
  },
  {
   "cell_type": "code",
   "execution_count": 142,
   "metadata": {},
   "outputs": [
    {
     "data": {
      "text/html": [
       "<div>\n",
       "<style scoped>\n",
       "    .dataframe tbody tr th:only-of-type {\n",
       "        vertical-align: middle;\n",
       "    }\n",
       "\n",
       "    .dataframe tbody tr th {\n",
       "        vertical-align: top;\n",
       "    }\n",
       "\n",
       "    .dataframe thead th {\n",
       "        text-align: right;\n",
       "    }\n",
       "</style>\n",
       "<table border=\"1\" class=\"dataframe\">\n",
       "  <thead>\n",
       "    <tr style=\"text-align: right;\">\n",
       "      <th></th>\n",
       "      <th>data_index</th>\n",
       "      <th>cluster</th>\n",
       "    </tr>\n",
       "  </thead>\n",
       "  <tbody>\n",
       "    <tr>\n",
       "      <th>0</th>\n",
       "      <td>0</td>\n",
       "      <td>3</td>\n",
       "    </tr>\n",
       "    <tr>\n",
       "      <th>3</th>\n",
       "      <td>3</td>\n",
       "      <td>3</td>\n",
       "    </tr>\n",
       "    <tr>\n",
       "      <th>4</th>\n",
       "      <td>4</td>\n",
       "      <td>3</td>\n",
       "    </tr>\n",
       "    <tr>\n",
       "      <th>22</th>\n",
       "      <td>22</td>\n",
       "      <td>3</td>\n",
       "    </tr>\n",
       "  </tbody>\n",
       "</table>\n",
       "</div>"
      ],
      "text/plain": [
       "    data_index  cluster\n",
       "0            0        3\n",
       "3            3        3\n",
       "4            4        3\n",
       "22          22        3"
      ]
     },
     "execution_count": 142,
     "metadata": {},
     "output_type": "execute_result"
    }
   ],
   "source": [
    "cluster_map[cluster_map.cluster == 3]"
   ]
  },
  {
   "cell_type": "code",
   "execution_count": 143,
   "metadata": {},
   "outputs": [
    {
     "data": {
      "text/html": [
       "<div>\n",
       "<style scoped>\n",
       "    .dataframe tbody tr th:only-of-type {\n",
       "        vertical-align: middle;\n",
       "    }\n",
       "\n",
       "    .dataframe tbody tr th {\n",
       "        vertical-align: top;\n",
       "    }\n",
       "\n",
       "    .dataframe thead th {\n",
       "        text-align: right;\n",
       "    }\n",
       "</style>\n",
       "<table border=\"1\" class=\"dataframe\">\n",
       "  <thead>\n",
       "    <tr style=\"text-align: right;\">\n",
       "      <th></th>\n",
       "      <th>data_index</th>\n",
       "      <th>cluster</th>\n",
       "    </tr>\n",
       "  </thead>\n",
       "  <tbody>\n",
       "    <tr>\n",
       "      <th>9</th>\n",
       "      <td>9</td>\n",
       "      <td>4</td>\n",
       "    </tr>\n",
       "    <tr>\n",
       "      <th>12</th>\n",
       "      <td>12</td>\n",
       "      <td>4</td>\n",
       "    </tr>\n",
       "    <tr>\n",
       "      <th>18</th>\n",
       "      <td>18</td>\n",
       "      <td>4</td>\n",
       "    </tr>\n",
       "    <tr>\n",
       "      <th>19</th>\n",
       "      <td>19</td>\n",
       "      <td>4</td>\n",
       "    </tr>\n",
       "    <tr>\n",
       "      <th>21</th>\n",
       "      <td>21</td>\n",
       "      <td>4</td>\n",
       "    </tr>\n",
       "  </tbody>\n",
       "</table>\n",
       "</div>"
      ],
      "text/plain": [
       "    data_index  cluster\n",
       "9            9        4\n",
       "12          12        4\n",
       "18          18        4\n",
       "19          19        4\n",
       "21          21        4"
      ]
     },
     "execution_count": 143,
     "metadata": {},
     "output_type": "execute_result"
    }
   ],
   "source": [
    "cluster_map[cluster_map.cluster == 4]"
   ]
  },
  {
   "cell_type": "code",
   "execution_count": 144,
   "metadata": {},
   "outputs": [
    {
     "data": {
      "text/html": [
       "<div>\n",
       "<style scoped>\n",
       "    .dataframe tbody tr th:only-of-type {\n",
       "        vertical-align: middle;\n",
       "    }\n",
       "\n",
       "    .dataframe tbody tr th {\n",
       "        vertical-align: top;\n",
       "    }\n",
       "\n",
       "    .dataframe thead th {\n",
       "        text-align: right;\n",
       "    }\n",
       "</style>\n",
       "<table border=\"1\" class=\"dataframe\">\n",
       "  <thead>\n",
       "    <tr style=\"text-align: right;\">\n",
       "      <th></th>\n",
       "      <th>data_index</th>\n",
       "      <th>cluster</th>\n",
       "    </tr>\n",
       "  </thead>\n",
       "  <tbody>\n",
       "  </tbody>\n",
       "</table>\n",
       "</div>"
      ],
      "text/plain": [
       "Empty DataFrame\n",
       "Columns: [data_index, cluster]\n",
       "Index: []"
      ]
     },
     "execution_count": 144,
     "metadata": {},
     "output_type": "execute_result"
    }
   ],
   "source": [
    "cluster_map[cluster_map.cluster == 5]"
   ]
  },
  {
   "cell_type": "code",
   "execution_count": 151,
   "metadata": {},
   "outputs": [],
   "source": [
    "dataset_ptos_init = pd.read_csv(\"ptoreal.csv\", encoding='iso-8859-1')"
   ]
  },
  {
   "cell_type": "code",
   "execution_count": 153,
   "metadata": {},
   "outputs": [],
   "source": [
    "pto_c1 = dataset_ptos_init.iloc[[2,11,14,15,16]]    # Select Rows by Index List\n",
    "pto_c2 = dataset_ptos_init.iloc[[1,7,8,10,13,17,20]]    # Select Rows by Index List\n",
    "pto_c3 = dataset_ptos_init.iloc[[0,3,4,22]]    # Select Rows by Index List\n",
    "pto_c4 = dataset_ptos_init.iloc[[9,12,18,19,21]]    # Select Rows by Index List"
   ]
  },
  {
   "cell_type": "markdown",
   "metadata": {},
   "source": [
    "Clustering Turistas"
   ]
  },
  {
   "cell_type": "code",
   "execution_count": 145,
   "metadata": {},
   "outputs": [
    {
     "name": "stderr",
     "output_type": "stream",
     "text": [
      "c:\\Users\\gugah\\AppData\\Local\\Programs\\Python\\Python311\\Lib\\site-packages\\sklearn\\cluster\\_kmeans.py:870: FutureWarning: The default value of `n_init` will change from 10 to 'auto' in 1.4. Set the value of `n_init` explicitly to suppress the warning\n",
      "  warnings.warn(\n"
     ]
    }
   ],
   "source": [
    "from sklearn.cluster import KMeans\n",
    "\n",
    "\n",
    "km = KMeans(n_clusters=5).fit(turista)\n",
    "\n",
    "cluster_map = pd.DataFrame()\n",
    "cluster_map['data_index'] = turista.index.values\n",
    "cluster_map['cluster'] = km.labels_"
   ]
  },
  {
   "cell_type": "code",
   "execution_count": 146,
   "metadata": {},
   "outputs": [
    {
     "data": {
      "text/html": [
       "<div>\n",
       "<style scoped>\n",
       "    .dataframe tbody tr th:only-of-type {\n",
       "        vertical-align: middle;\n",
       "    }\n",
       "\n",
       "    .dataframe tbody tr th {\n",
       "        vertical-align: top;\n",
       "    }\n",
       "\n",
       "    .dataframe thead th {\n",
       "        text-align: right;\n",
       "    }\n",
       "</style>\n",
       "<table border=\"1\" class=\"dataframe\">\n",
       "  <thead>\n",
       "    <tr style=\"text-align: right;\">\n",
       "      <th></th>\n",
       "      <th>data_index</th>\n",
       "      <th>cluster</th>\n",
       "    </tr>\n",
       "  </thead>\n",
       "  <tbody>\n",
       "    <tr>\n",
       "      <th>1</th>\n",
       "      <td>1</td>\n",
       "      <td>1</td>\n",
       "    </tr>\n",
       "    <tr>\n",
       "      <th>5</th>\n",
       "      <td>5</td>\n",
       "      <td>1</td>\n",
       "    </tr>\n",
       "    <tr>\n",
       "      <th>9</th>\n",
       "      <td>9</td>\n",
       "      <td>1</td>\n",
       "    </tr>\n",
       "    <tr>\n",
       "      <th>14</th>\n",
       "      <td>14</td>\n",
       "      <td>1</td>\n",
       "    </tr>\n",
       "    <tr>\n",
       "      <th>15</th>\n",
       "      <td>15</td>\n",
       "      <td>1</td>\n",
       "    </tr>\n",
       "    <tr>\n",
       "      <th>18</th>\n",
       "      <td>18</td>\n",
       "      <td>1</td>\n",
       "    </tr>\n",
       "    <tr>\n",
       "      <th>20</th>\n",
       "      <td>20</td>\n",
       "      <td>1</td>\n",
       "    </tr>\n",
       "    <tr>\n",
       "      <th>21</th>\n",
       "      <td>21</td>\n",
       "      <td>1</td>\n",
       "    </tr>\n",
       "    <tr>\n",
       "      <th>23</th>\n",
       "      <td>23</td>\n",
       "      <td>1</td>\n",
       "    </tr>\n",
       "    <tr>\n",
       "      <th>29</th>\n",
       "      <td>29</td>\n",
       "      <td>1</td>\n",
       "    </tr>\n",
       "    <tr>\n",
       "      <th>34</th>\n",
       "      <td>34</td>\n",
       "      <td>1</td>\n",
       "    </tr>\n",
       "    <tr>\n",
       "      <th>41</th>\n",
       "      <td>41</td>\n",
       "      <td>1</td>\n",
       "    </tr>\n",
       "    <tr>\n",
       "      <th>43</th>\n",
       "      <td>43</td>\n",
       "      <td>1</td>\n",
       "    </tr>\n",
       "    <tr>\n",
       "      <th>44</th>\n",
       "      <td>44</td>\n",
       "      <td>1</td>\n",
       "    </tr>\n",
       "    <tr>\n",
       "      <th>45</th>\n",
       "      <td>45</td>\n",
       "      <td>1</td>\n",
       "    </tr>\n",
       "    <tr>\n",
       "      <th>48</th>\n",
       "      <td>48</td>\n",
       "      <td>1</td>\n",
       "    </tr>\n",
       "  </tbody>\n",
       "</table>\n",
       "</div>"
      ],
      "text/plain": [
       "    data_index  cluster\n",
       "1            1        1\n",
       "5            5        1\n",
       "9            9        1\n",
       "14          14        1\n",
       "15          15        1\n",
       "18          18        1\n",
       "20          20        1\n",
       "21          21        1\n",
       "23          23        1\n",
       "29          29        1\n",
       "34          34        1\n",
       "41          41        1\n",
       "43          43        1\n",
       "44          44        1\n",
       "45          45        1\n",
       "48          48        1"
      ]
     },
     "execution_count": 146,
     "metadata": {},
     "output_type": "execute_result"
    }
   ],
   "source": [
    "cluster_map[cluster_map.cluster == 1]"
   ]
  },
  {
   "cell_type": "code",
   "execution_count": 147,
   "metadata": {},
   "outputs": [
    {
     "data": {
      "text/html": [
       "<div>\n",
       "<style scoped>\n",
       "    .dataframe tbody tr th:only-of-type {\n",
       "        vertical-align: middle;\n",
       "    }\n",
       "\n",
       "    .dataframe tbody tr th {\n",
       "        vertical-align: top;\n",
       "    }\n",
       "\n",
       "    .dataframe thead th {\n",
       "        text-align: right;\n",
       "    }\n",
       "</style>\n",
       "<table border=\"1\" class=\"dataframe\">\n",
       "  <thead>\n",
       "    <tr style=\"text-align: right;\">\n",
       "      <th></th>\n",
       "      <th>data_index</th>\n",
       "      <th>cluster</th>\n",
       "    </tr>\n",
       "  </thead>\n",
       "  <tbody>\n",
       "    <tr>\n",
       "      <th>0</th>\n",
       "      <td>0</td>\n",
       "      <td>2</td>\n",
       "    </tr>\n",
       "    <tr>\n",
       "      <th>4</th>\n",
       "      <td>4</td>\n",
       "      <td>2</td>\n",
       "    </tr>\n",
       "    <tr>\n",
       "      <th>12</th>\n",
       "      <td>12</td>\n",
       "      <td>2</td>\n",
       "    </tr>\n",
       "    <tr>\n",
       "      <th>13</th>\n",
       "      <td>13</td>\n",
       "      <td>2</td>\n",
       "    </tr>\n",
       "    <tr>\n",
       "      <th>16</th>\n",
       "      <td>16</td>\n",
       "      <td>2</td>\n",
       "    </tr>\n",
       "    <tr>\n",
       "      <th>17</th>\n",
       "      <td>17</td>\n",
       "      <td>2</td>\n",
       "    </tr>\n",
       "    <tr>\n",
       "      <th>27</th>\n",
       "      <td>27</td>\n",
       "      <td>2</td>\n",
       "    </tr>\n",
       "    <tr>\n",
       "      <th>28</th>\n",
       "      <td>28</td>\n",
       "      <td>2</td>\n",
       "    </tr>\n",
       "    <tr>\n",
       "      <th>32</th>\n",
       "      <td>32</td>\n",
       "      <td>2</td>\n",
       "    </tr>\n",
       "    <tr>\n",
       "      <th>33</th>\n",
       "      <td>33</td>\n",
       "      <td>2</td>\n",
       "    </tr>\n",
       "    <tr>\n",
       "      <th>37</th>\n",
       "      <td>37</td>\n",
       "      <td>2</td>\n",
       "    </tr>\n",
       "    <tr>\n",
       "      <th>40</th>\n",
       "      <td>40</td>\n",
       "      <td>2</td>\n",
       "    </tr>\n",
       "    <tr>\n",
       "      <th>42</th>\n",
       "      <td>42</td>\n",
       "      <td>2</td>\n",
       "    </tr>\n",
       "    <tr>\n",
       "      <th>47</th>\n",
       "      <td>47</td>\n",
       "      <td>2</td>\n",
       "    </tr>\n",
       "  </tbody>\n",
       "</table>\n",
       "</div>"
      ],
      "text/plain": [
       "    data_index  cluster\n",
       "0            0        2\n",
       "4            4        2\n",
       "12          12        2\n",
       "13          13        2\n",
       "16          16        2\n",
       "17          17        2\n",
       "27          27        2\n",
       "28          28        2\n",
       "32          32        2\n",
       "33          33        2\n",
       "37          37        2\n",
       "40          40        2\n",
       "42          42        2\n",
       "47          47        2"
      ]
     },
     "execution_count": 147,
     "metadata": {},
     "output_type": "execute_result"
    }
   ],
   "source": [
    "cluster_map[cluster_map.cluster == 2]"
   ]
  },
  {
   "cell_type": "code",
   "execution_count": 148,
   "metadata": {},
   "outputs": [
    {
     "data": {
      "text/html": [
       "<div>\n",
       "<style scoped>\n",
       "    .dataframe tbody tr th:only-of-type {\n",
       "        vertical-align: middle;\n",
       "    }\n",
       "\n",
       "    .dataframe tbody tr th {\n",
       "        vertical-align: top;\n",
       "    }\n",
       "\n",
       "    .dataframe thead th {\n",
       "        text-align: right;\n",
       "    }\n",
       "</style>\n",
       "<table border=\"1\" class=\"dataframe\">\n",
       "  <thead>\n",
       "    <tr style=\"text-align: right;\">\n",
       "      <th></th>\n",
       "      <th>data_index</th>\n",
       "      <th>cluster</th>\n",
       "    </tr>\n",
       "  </thead>\n",
       "  <tbody>\n",
       "    <tr>\n",
       "      <th>2</th>\n",
       "      <td>2</td>\n",
       "      <td>3</td>\n",
       "    </tr>\n",
       "    <tr>\n",
       "      <th>6</th>\n",
       "      <td>6</td>\n",
       "      <td>3</td>\n",
       "    </tr>\n",
       "    <tr>\n",
       "      <th>11</th>\n",
       "      <td>11</td>\n",
       "      <td>3</td>\n",
       "    </tr>\n",
       "    <tr>\n",
       "      <th>19</th>\n",
       "      <td>19</td>\n",
       "      <td>3</td>\n",
       "    </tr>\n",
       "    <tr>\n",
       "      <th>25</th>\n",
       "      <td>25</td>\n",
       "      <td>3</td>\n",
       "    </tr>\n",
       "    <tr>\n",
       "      <th>30</th>\n",
       "      <td>30</td>\n",
       "      <td>3</td>\n",
       "    </tr>\n",
       "    <tr>\n",
       "      <th>35</th>\n",
       "      <td>35</td>\n",
       "      <td>3</td>\n",
       "    </tr>\n",
       "  </tbody>\n",
       "</table>\n",
       "</div>"
      ],
      "text/plain": [
       "    data_index  cluster\n",
       "2            2        3\n",
       "6            6        3\n",
       "11          11        3\n",
       "19          19        3\n",
       "25          25        3\n",
       "30          30        3\n",
       "35          35        3"
      ]
     },
     "execution_count": 148,
     "metadata": {},
     "output_type": "execute_result"
    }
   ],
   "source": [
    "cluster_map[cluster_map.cluster == 3]"
   ]
  },
  {
   "cell_type": "code",
   "execution_count": 149,
   "metadata": {},
   "outputs": [
    {
     "data": {
      "text/html": [
       "<div>\n",
       "<style scoped>\n",
       "    .dataframe tbody tr th:only-of-type {\n",
       "        vertical-align: middle;\n",
       "    }\n",
       "\n",
       "    .dataframe tbody tr th {\n",
       "        vertical-align: top;\n",
       "    }\n",
       "\n",
       "    .dataframe thead th {\n",
       "        text-align: right;\n",
       "    }\n",
       "</style>\n",
       "<table border=\"1\" class=\"dataframe\">\n",
       "  <thead>\n",
       "    <tr style=\"text-align: right;\">\n",
       "      <th></th>\n",
       "      <th>data_index</th>\n",
       "      <th>cluster</th>\n",
       "    </tr>\n",
       "  </thead>\n",
       "  <tbody>\n",
       "    <tr>\n",
       "      <th>8</th>\n",
       "      <td>8</td>\n",
       "      <td>4</td>\n",
       "    </tr>\n",
       "    <tr>\n",
       "      <th>10</th>\n",
       "      <td>10</td>\n",
       "      <td>4</td>\n",
       "    </tr>\n",
       "    <tr>\n",
       "      <th>22</th>\n",
       "      <td>22</td>\n",
       "      <td>4</td>\n",
       "    </tr>\n",
       "    <tr>\n",
       "      <th>49</th>\n",
       "      <td>49</td>\n",
       "      <td>4</td>\n",
       "    </tr>\n",
       "  </tbody>\n",
       "</table>\n",
       "</div>"
      ],
      "text/plain": [
       "    data_index  cluster\n",
       "8            8        4\n",
       "10          10        4\n",
       "22          22        4\n",
       "49          49        4"
      ]
     },
     "execution_count": 149,
     "metadata": {},
     "output_type": "execute_result"
    }
   ],
   "source": [
    "cluster_map[cluster_map.cluster == 4]"
   ]
  },
  {
   "cell_type": "code",
   "execution_count": 154,
   "metadata": {},
   "outputs": [],
   "source": [
    "dataset_tur_init = pd.read_csv(\"turista.csv\", encoding='iso-8859-1')"
   ]
  },
  {
   "cell_type": "code",
   "execution_count": 155,
   "metadata": {},
   "outputs": [],
   "source": [
    "tur_c1 = dataset_tur_init.iloc[[1,5,9,14,15,18,20,21,23,29,34,41,43,44,45,48]]    # Select Rows by Index List\n",
    "tur_c2 = dataset_tur_init.iloc[[0,4,12,13,16,17,27,28,32,33,37,40,42,47]]    # Select Rows by Index List\n",
    "tur_c3 = dataset_tur_init.iloc[[2,6,11,19,25,30,35]]    # Select Rows by Index List\n",
    "tur_c4 = dataset_tur_init.iloc[[8,10,22,49]] "
   ]
  },
  {
   "cell_type": "code",
   "execution_count": 150,
   "metadata": {},
   "outputs": [
    {
     "data": {
      "text/html": [
       "<div>\n",
       "<style scoped>\n",
       "    .dataframe tbody tr th:only-of-type {\n",
       "        vertical-align: middle;\n",
       "    }\n",
       "\n",
       "    .dataframe tbody tr th {\n",
       "        vertical-align: top;\n",
       "    }\n",
       "\n",
       "    .dataframe thead th {\n",
       "        text-align: right;\n",
       "    }\n",
       "</style>\n",
       "<table border=\"1\" class=\"dataframe\">\n",
       "  <thead>\n",
       "    <tr style=\"text-align: right;\">\n",
       "      <th></th>\n",
       "      <th>data_index</th>\n",
       "      <th>cluster</th>\n",
       "    </tr>\n",
       "  </thead>\n",
       "  <tbody>\n",
       "  </tbody>\n",
       "</table>\n",
       "</div>"
      ],
      "text/plain": [
       "Empty DataFrame\n",
       "Columns: [data_index, cluster]\n",
       "Index: []"
      ]
     },
     "execution_count": 150,
     "metadata": {},
     "output_type": "execute_result"
    }
   ],
   "source": [
    "cluster_map[cluster_map.cluster == 5]"
   ]
  },
  {
   "cell_type": "code",
   "execution_count": 116,
   "metadata": {},
   "outputs": [],
   "source": [
    "turista = pd.get_dummies(data=turista, columns=['grupo-ou-nao', 'local-de-origem','primeira-vez'])"
   ]
  },
  {
   "cell_type": "code",
   "execution_count": 132,
   "metadata": {},
   "outputs": [
    {
     "name": "stderr",
     "output_type": "stream",
     "text": [
      "C:\\Users\\gugah\\AppData\\Local\\Temp\\ipykernel_22736\\1505926229.py:1: FutureWarning: The default value of numeric_only in DataFrame.corr is deprecated. In a future version, it will default to False. Select only valid columns or specify the value of numeric_only to silence this warning.\n",
      "  pto_tur2_corr = pd.DataFrame(pto_tur2.corr())\n"
     ]
    }
   ],
   "source": [
    "pto_tur2_corr = pd.DataFrame(pto_tur2.corr())"
   ]
  },
  {
   "cell_type": "code",
   "execution_count": 133,
   "metadata": {},
   "outputs": [
    {
     "data": {
      "text/html": [
       "<div>\n",
       "<style scoped>\n",
       "    .dataframe tbody tr th:only-of-type {\n",
       "        vertical-align: middle;\n",
       "    }\n",
       "\n",
       "    .dataframe tbody tr th {\n",
       "        vertical-align: top;\n",
       "    }\n",
       "\n",
       "    .dataframe thead th {\n",
       "        text-align: right;\n",
       "    }\n",
       "</style>\n",
       "<table border=\"1\" class=\"dataframe\">\n",
       "  <thead>\n",
       "    <tr style=\"text-align: right;\">\n",
       "      <th></th>\n",
       "      <th>avaliacao</th>\n",
       "      <th>Tipo_Cachoeira</th>\n",
       "      <th>Tipo_Hotel</th>\n",
       "      <th>Tipo_Igreja</th>\n",
       "      <th>Tipo_Pizzaria</th>\n",
       "      <th>Tipo_Ponto TurÃ­stico</th>\n",
       "      <th>Tipo_Pousada</th>\n",
       "      <th>Tipo_PraÃ§a</th>\n",
       "      <th>Tipo_Restaurante</th>\n",
       "      <th>Tipo_igreja</th>\n",
       "      <th>Cidade_Coronel Xavier Chaves - MG</th>\n",
       "      <th>Cidade_Dores de Campos</th>\n",
       "      <th>Cidade_Dores dos campos</th>\n",
       "      <th>Cidade_Piedade do Rio Grande</th>\n",
       "      <th>Cidade_Piedade do Rio Grande</th>\n",
       "      <th>Cidade_SÃ£o Vicente de Minas</th>\n",
       "      <th>Categoria_Aberto</th>\n",
       "      <th>Categoria_Fechado</th>\n",
       "    </tr>\n",
       "  </thead>\n",
       "  <tbody>\n",
       "    <tr>\n",
       "      <th>avaliacao</th>\n",
       "      <td>1.000000</td>\n",
       "      <td>0.111650</td>\n",
       "      <td>-0.741870</td>\n",
       "      <td>0.348040</td>\n",
       "      <td>0.019905</td>\n",
       "      <td>0.134362</td>\n",
       "      <td>-0.067800</td>\n",
       "      <td>0.077134</td>\n",
       "      <td>0.247268</td>\n",
       "      <td>0.248818</td>\n",
       "      <td>0.248818</td>\n",
       "      <td>-0.063970</td>\n",
       "      <td>0.019905</td>\n",
       "      <td>-0.284422</td>\n",
       "      <td>0.227580</td>\n",
       "      <td>0.134362</td>\n",
       "      <td>0.196790</td>\n",
       "      <td>-0.196790</td>\n",
       "    </tr>\n",
       "    <tr>\n",
       "      <th>Tipo_Cachoeira</th>\n",
       "      <td>0.111650</td>\n",
       "      <td>1.000000</td>\n",
       "      <td>-0.183340</td>\n",
       "      <td>-0.119523</td>\n",
       "      <td>-0.065795</td>\n",
       "      <td>-0.065795</td>\n",
       "      <td>-0.119523</td>\n",
       "      <td>-0.065795</td>\n",
       "      <td>-0.162650</td>\n",
       "      <td>-0.065795</td>\n",
       "      <td>-0.065795</td>\n",
       "      <td>-0.162650</td>\n",
       "      <td>0.690849</td>\n",
       "      <td>0.013430</td>\n",
       "      <td>-0.141598</td>\n",
       "      <td>-0.065795</td>\n",
       "      <td>0.672593</td>\n",
       "      <td>-0.672593</td>\n",
       "    </tr>\n",
       "    <tr>\n",
       "      <th>Tipo_Hotel</th>\n",
       "      <td>-0.741870</td>\n",
       "      <td>-0.183340</td>\n",
       "      <td>1.000000</td>\n",
       "      <td>-0.230089</td>\n",
       "      <td>-0.126660</td>\n",
       "      <td>-0.126660</td>\n",
       "      <td>-0.230089</td>\n",
       "      <td>-0.126660</td>\n",
       "      <td>-0.313112</td>\n",
       "      <td>-0.126660</td>\n",
       "      <td>-0.126660</td>\n",
       "      <td>0.407046</td>\n",
       "      <td>-0.126660</td>\n",
       "      <td>-0.172363</td>\n",
       "      <td>-0.011358</td>\n",
       "      <td>-0.126660</td>\n",
       "      <td>-0.272587</td>\n",
       "      <td>0.272587</td>\n",
       "    </tr>\n",
       "    <tr>\n",
       "      <th>Tipo_Igreja</th>\n",
       "      <td>0.348040</td>\n",
       "      <td>-0.119523</td>\n",
       "      <td>-0.230089</td>\n",
       "      <td>1.000000</td>\n",
       "      <td>-0.082572</td>\n",
       "      <td>-0.082572</td>\n",
       "      <td>-0.150000</td>\n",
       "      <td>-0.082572</td>\n",
       "      <td>-0.204124</td>\n",
       "      <td>-0.082572</td>\n",
       "      <td>-0.082572</td>\n",
       "      <td>0.421857</td>\n",
       "      <td>-0.082572</td>\n",
       "      <td>-0.112367</td>\n",
       "      <td>-0.177705</td>\n",
       "      <td>-0.082572</td>\n",
       "      <td>-0.177705</td>\n",
       "      <td>0.177705</td>\n",
       "    </tr>\n",
       "    <tr>\n",
       "      <th>Tipo_Pizzaria</th>\n",
       "      <td>0.019905</td>\n",
       "      <td>-0.065795</td>\n",
       "      <td>-0.126660</td>\n",
       "      <td>-0.082572</td>\n",
       "      <td>1.000000</td>\n",
       "      <td>-0.045455</td>\n",
       "      <td>-0.082572</td>\n",
       "      <td>-0.045455</td>\n",
       "      <td>-0.112367</td>\n",
       "      <td>-0.045455</td>\n",
       "      <td>-0.045455</td>\n",
       "      <td>-0.112367</td>\n",
       "      <td>-0.045455</td>\n",
       "      <td>-0.204124</td>\n",
       "      <td>0.464660</td>\n",
       "      <td>-0.045455</td>\n",
       "      <td>-0.097823</td>\n",
       "      <td>0.097823</td>\n",
       "    </tr>\n",
       "  </tbody>\n",
       "</table>\n",
       "</div>"
      ],
      "text/plain": [
       "                avaliacao  Tipo_Cachoeira  Tipo_Hotel  Tipo_Igreja  \\\n",
       "avaliacao        1.000000        0.111650   -0.741870     0.348040   \n",
       "Tipo_Cachoeira   0.111650        1.000000   -0.183340    -0.119523   \n",
       "Tipo_Hotel      -0.741870       -0.183340    1.000000    -0.230089   \n",
       "Tipo_Igreja      0.348040       -0.119523   -0.230089     1.000000   \n",
       "Tipo_Pizzaria    0.019905       -0.065795   -0.126660    -0.082572   \n",
       "\n",
       "                Tipo_Pizzaria  Tipo_Ponto TurÃ­stico  Tipo_Pousada  \\\n",
       "avaliacao            0.019905               0.134362     -0.067800   \n",
       "Tipo_Cachoeira      -0.065795              -0.065795     -0.119523   \n",
       "Tipo_Hotel          -0.126660              -0.126660     -0.230089   \n",
       "Tipo_Igreja         -0.082572              -0.082572     -0.150000   \n",
       "Tipo_Pizzaria        1.000000              -0.045455     -0.082572   \n",
       "\n",
       "                Tipo_PraÃ§a  Tipo_Restaurante  Tipo_igreja  \\\n",
       "avaliacao          0.077134          0.247268     0.248818   \n",
       "Tipo_Cachoeira    -0.065795         -0.162650    -0.065795   \n",
       "Tipo_Hotel        -0.126660         -0.313112    -0.126660   \n",
       "Tipo_Igreja       -0.082572         -0.204124    -0.082572   \n",
       "Tipo_Pizzaria     -0.045455         -0.112367    -0.045455   \n",
       "\n",
       "                Cidade_Coronel Xavier Chaves - MG  Cidade_Dores de Campos   \\\n",
       "avaliacao                                0.248818                -0.063970   \n",
       "Tipo_Cachoeira                          -0.065795                -0.162650   \n",
       "Tipo_Hotel                              -0.126660                 0.407046   \n",
       "Tipo_Igreja                             -0.082572                 0.421857   \n",
       "Tipo_Pizzaria                           -0.045455                -0.112367   \n",
       "\n",
       "                Cidade_Dores dos campos  Cidade_Piedade do Rio Grande  \\\n",
       "avaliacao                      0.019905                     -0.284422   \n",
       "Tipo_Cachoeira                 0.690849                      0.013430   \n",
       "Tipo_Hotel                    -0.126660                     -0.172363   \n",
       "Tipo_Igreja                   -0.082572                     -0.112367   \n",
       "Tipo_Pizzaria                 -0.045455                     -0.204124   \n",
       "\n",
       "                Cidade_Piedade do Rio Grande   Cidade_SÃ£o Vicente de Minas   \\\n",
       "avaliacao                            0.227580                       0.134362   \n",
       "Tipo_Cachoeira                      -0.141598                      -0.065795   \n",
       "Tipo_Hotel                          -0.011358                      -0.126660   \n",
       "Tipo_Igreja                         -0.177705                      -0.082572   \n",
       "Tipo_Pizzaria                        0.464660                      -0.045455   \n",
       "\n",
       "                Categoria_Aberto  Categoria_Fechado  \n",
       "avaliacao               0.196790          -0.196790  \n",
       "Tipo_Cachoeira          0.672593          -0.672593  \n",
       "Tipo_Hotel             -0.272587           0.272587  \n",
       "Tipo_Igreja            -0.177705           0.177705  \n",
       "Tipo_Pizzaria          -0.097823           0.097823  "
      ]
     },
     "execution_count": 133,
     "metadata": {},
     "output_type": "execute_result"
    }
   ],
   "source": [
    "pto_tur2_corr.head()"
   ]
  },
  {
   "cell_type": "code",
   "execution_count": 134,
   "metadata": {},
   "outputs": [],
   "source": [
    "turista_corr = pd.DataFrame(turista.corr())"
   ]
  },
  {
   "cell_type": "code",
   "execution_count": 136,
   "metadata": {},
   "outputs": [
    {
     "data": {
      "text/html": [
       "<div>\n",
       "<style scoped>\n",
       "    .dataframe tbody tr th:only-of-type {\n",
       "        vertical-align: middle;\n",
       "    }\n",
       "\n",
       "    .dataframe tbody tr th {\n",
       "        vertical-align: top;\n",
       "    }\n",
       "\n",
       "    .dataframe thead th {\n",
       "        text-align: right;\n",
       "    }\n",
       "</style>\n",
       "<table border=\"1\" class=\"dataframe\">\n",
       "  <thead>\n",
       "    <tr style=\"text-align: right;\">\n",
       "      <th></th>\n",
       "      <th>idade</th>\n",
       "      <th>viagens-pela-plataforma</th>\n",
       "      <th>grupo-ou-nao_nÃ£o</th>\n",
       "      <th>grupo-ou-nao_sim</th>\n",
       "      <th>local-de-origem_Belo Horizonte</th>\n",
       "      <th>local-de-origem_BelÃ©m</th>\n",
       "      <th>local-de-origem_BrasÃ­lia</th>\n",
       "      <th>local-de-origem_Curitiba</th>\n",
       "      <th>local-de-origem_FlorianÃ³polis</th>\n",
       "      <th>local-de-origem_Fortaleza</th>\n",
       "      <th>local-de-origem_Manaus</th>\n",
       "      <th>local-de-origem_Porto Alegre</th>\n",
       "      <th>local-de-origem_Recife</th>\n",
       "      <th>local-de-origem_Rio de Janeiro</th>\n",
       "      <th>local-de-origem_Salvador</th>\n",
       "      <th>local-de-origem_SÃ£o Paulo</th>\n",
       "      <th>primeira-vez_NÃ£o</th>\n",
       "      <th>primeira-vez_Sim</th>\n",
       "    </tr>\n",
       "  </thead>\n",
       "  <tbody>\n",
       "    <tr>\n",
       "      <th>idade</th>\n",
       "      <td>1.000000</td>\n",
       "      <td>-0.148247</td>\n",
       "      <td>-0.067017</td>\n",
       "      <td>0.067017</td>\n",
       "      <td>0.064907</td>\n",
       "      <td>-0.067017</td>\n",
       "      <td>-0.119787</td>\n",
       "      <td>-0.132115</td>\n",
       "      <td>-0.132115</td>\n",
       "      <td>0.064907</td>\n",
       "      <td>-0.039685</td>\n",
       "      <td>0.133435</td>\n",
       "      <td>0.169183</td>\n",
       "      <td>0.002089</td>\n",
       "      <td>-0.060572</td>\n",
       "      <td>0.075758</td>\n",
       "      <td>0.332880</td>\n",
       "      <td>-0.332880</td>\n",
       "    </tr>\n",
       "    <tr>\n",
       "      <th>viagens-pela-plataforma</th>\n",
       "      <td>-0.148247</td>\n",
       "      <td>1.000000</td>\n",
       "      <td>0.007753</td>\n",
       "      <td>-0.007753</td>\n",
       "      <td>-0.031011</td>\n",
       "      <td>0.085279</td>\n",
       "      <td>-0.147300</td>\n",
       "      <td>-0.013573</td>\n",
       "      <td>-0.047506</td>\n",
       "      <td>-0.031011</td>\n",
       "      <td>-0.122743</td>\n",
       "      <td>0.209633</td>\n",
       "      <td>-0.092057</td>\n",
       "      <td>-0.337544</td>\n",
       "      <td>0.214801</td>\n",
       "      <td>0.291822</td>\n",
       "      <td>-0.831870</td>\n",
       "      <td>0.831870</td>\n",
       "    </tr>\n",
       "    <tr>\n",
       "      <th>grupo-ou-nao_nÃ£o</th>\n",
       "      <td>-0.067017</td>\n",
       "      <td>0.007753</td>\n",
       "      <td>1.000000</td>\n",
       "      <td>-1.000000</td>\n",
       "      <td>-0.063830</td>\n",
       "      <td>-0.063830</td>\n",
       "      <td>-0.063830</td>\n",
       "      <td>-0.074501</td>\n",
       "      <td>-0.074501</td>\n",
       "      <td>-0.063830</td>\n",
       "      <td>-0.084215</td>\n",
       "      <td>0.165859</td>\n",
       "      <td>-0.084215</td>\n",
       "      <td>-0.084215</td>\n",
       "      <td>0.196502</td>\n",
       "      <td>0.235920</td>\n",
       "      <td>-0.044363</td>\n",
       "      <td>0.044363</td>\n",
       "    </tr>\n",
       "    <tr>\n",
       "      <th>grupo-ou-nao_sim</th>\n",
       "      <td>0.067017</td>\n",
       "      <td>-0.007753</td>\n",
       "      <td>-1.000000</td>\n",
       "      <td>1.000000</td>\n",
       "      <td>0.063830</td>\n",
       "      <td>0.063830</td>\n",
       "      <td>0.063830</td>\n",
       "      <td>0.074501</td>\n",
       "      <td>0.074501</td>\n",
       "      <td>0.063830</td>\n",
       "      <td>0.084215</td>\n",
       "      <td>-0.165859</td>\n",
       "      <td>0.084215</td>\n",
       "      <td>0.084215</td>\n",
       "      <td>-0.196502</td>\n",
       "      <td>-0.235920</td>\n",
       "      <td>0.044363</td>\n",
       "      <td>-0.044363</td>\n",
       "    </tr>\n",
       "    <tr>\n",
       "      <th>local-de-origem_Belo Horizonte</th>\n",
       "      <td>0.064907</td>\n",
       "      <td>-0.031011</td>\n",
       "      <td>-0.063830</td>\n",
       "      <td>0.063830</td>\n",
       "      <td>1.000000</td>\n",
       "      <td>-0.063830</td>\n",
       "      <td>-0.063830</td>\n",
       "      <td>-0.074501</td>\n",
       "      <td>-0.074501</td>\n",
       "      <td>-0.063830</td>\n",
       "      <td>-0.084215</td>\n",
       "      <td>-0.093296</td>\n",
       "      <td>-0.084215</td>\n",
       "      <td>-0.084215</td>\n",
       "      <td>-0.084215</td>\n",
       "      <td>-0.074501</td>\n",
       "      <td>0.126265</td>\n",
       "      <td>-0.126265</td>\n",
       "    </tr>\n",
       "  </tbody>\n",
       "</table>\n",
       "</div>"
      ],
      "text/plain": [
       "                                   idade  viagens-pela-plataforma  \\\n",
       "idade                           1.000000                -0.148247   \n",
       "viagens-pela-plataforma        -0.148247                 1.000000   \n",
       "grupo-ou-nao_nÃ£o              -0.067017                 0.007753   \n",
       "grupo-ou-nao_sim                0.067017                -0.007753   \n",
       "local-de-origem_Belo Horizonte  0.064907                -0.031011   \n",
       "\n",
       "                                grupo-ou-nao_nÃ£o  grupo-ou-nao_sim  \\\n",
       "idade                                   -0.067017          0.067017   \n",
       "viagens-pela-plataforma                  0.007753         -0.007753   \n",
       "grupo-ou-nao_nÃ£o                        1.000000         -1.000000   \n",
       "grupo-ou-nao_sim                        -1.000000          1.000000   \n",
       "local-de-origem_Belo Horizonte          -0.063830          0.063830   \n",
       "\n",
       "                                local-de-origem_Belo Horizonte  \\\n",
       "idade                                                 0.064907   \n",
       "viagens-pela-plataforma                              -0.031011   \n",
       "grupo-ou-nao_nÃ£o                                    -0.063830   \n",
       "grupo-ou-nao_sim                                      0.063830   \n",
       "local-de-origem_Belo Horizonte                        1.000000   \n",
       "\n",
       "                                local-de-origem_BelÃ©m  \\\n",
       "idade                                        -0.067017   \n",
       "viagens-pela-plataforma                       0.085279   \n",
       "grupo-ou-nao_nÃ£o                            -0.063830   \n",
       "grupo-ou-nao_sim                              0.063830   \n",
       "local-de-origem_Belo Horizonte               -0.063830   \n",
       "\n",
       "                                local-de-origem_BrasÃ­lia  \\\n",
       "idade                                           -0.119787   \n",
       "viagens-pela-plataforma                         -0.147300   \n",
       "grupo-ou-nao_nÃ£o                               -0.063830   \n",
       "grupo-ou-nao_sim                                 0.063830   \n",
       "local-de-origem_Belo Horizonte                  -0.063830   \n",
       "\n",
       "                                local-de-origem_Curitiba  \\\n",
       "idade                                          -0.132115   \n",
       "viagens-pela-plataforma                        -0.013573   \n",
       "grupo-ou-nao_nÃ£o                              -0.074501   \n",
       "grupo-ou-nao_sim                                0.074501   \n",
       "local-de-origem_Belo Horizonte                 -0.074501   \n",
       "\n",
       "                                local-de-origem_FlorianÃ³polis  \\\n",
       "idade                                                -0.132115   \n",
       "viagens-pela-plataforma                              -0.047506   \n",
       "grupo-ou-nao_nÃ£o                                    -0.074501   \n",
       "grupo-ou-nao_sim                                      0.074501   \n",
       "local-de-origem_Belo Horizonte                       -0.074501   \n",
       "\n",
       "                                local-de-origem_Fortaleza  \\\n",
       "idade                                            0.064907   \n",
       "viagens-pela-plataforma                         -0.031011   \n",
       "grupo-ou-nao_nÃ£o                               -0.063830   \n",
       "grupo-ou-nao_sim                                 0.063830   \n",
       "local-de-origem_Belo Horizonte                  -0.063830   \n",
       "\n",
       "                                local-de-origem_Manaus  \\\n",
       "idade                                        -0.039685   \n",
       "viagens-pela-plataforma                      -0.122743   \n",
       "grupo-ou-nao_nÃ£o                            -0.084215   \n",
       "grupo-ou-nao_sim                              0.084215   \n",
       "local-de-origem_Belo Horizonte               -0.084215   \n",
       "\n",
       "                                local-de-origem_Porto Alegre  \\\n",
       "idade                                               0.133435   \n",
       "viagens-pela-plataforma                             0.209633   \n",
       "grupo-ou-nao_nÃ£o                                   0.165859   \n",
       "grupo-ou-nao_sim                                   -0.165859   \n",
       "local-de-origem_Belo Horizonte                     -0.093296   \n",
       "\n",
       "                                local-de-origem_Recife  \\\n",
       "idade                                         0.169183   \n",
       "viagens-pela-plataforma                      -0.092057   \n",
       "grupo-ou-nao_nÃ£o                            -0.084215   \n",
       "grupo-ou-nao_sim                              0.084215   \n",
       "local-de-origem_Belo Horizonte               -0.084215   \n",
       "\n",
       "                                local-de-origem_Rio de Janeiro  \\\n",
       "idade                                                 0.002089   \n",
       "viagens-pela-plataforma                              -0.337544   \n",
       "grupo-ou-nao_nÃ£o                                    -0.084215   \n",
       "grupo-ou-nao_sim                                      0.084215   \n",
       "local-de-origem_Belo Horizonte                       -0.084215   \n",
       "\n",
       "                                local-de-origem_Salvador  \\\n",
       "idade                                          -0.060572   \n",
       "viagens-pela-plataforma                         0.214801   \n",
       "grupo-ou-nao_nÃ£o                               0.196502   \n",
       "grupo-ou-nao_sim                               -0.196502   \n",
       "local-de-origem_Belo Horizonte                 -0.084215   \n",
       "\n",
       "                                local-de-origem_SÃ£o Paulo  primeira-vez_NÃ£o  \\\n",
       "idade                                             0.075758           0.332880   \n",
       "viagens-pela-plataforma                           0.291822          -0.831870   \n",
       "grupo-ou-nao_nÃ£o                                 0.235920          -0.044363   \n",
       "grupo-ou-nao_sim                                 -0.235920           0.044363   \n",
       "local-de-origem_Belo Horizonte                   -0.074501           0.126265   \n",
       "\n",
       "                                primeira-vez_Sim  \n",
       "idade                                  -0.332880  \n",
       "viagens-pela-plataforma                 0.831870  \n",
       "grupo-ou-nao_nÃ£o                       0.044363  \n",
       "grupo-ou-nao_sim                       -0.044363  \n",
       "local-de-origem_Belo Horizonte         -0.126265  "
      ]
     },
     "execution_count": 136,
     "metadata": {},
     "output_type": "execute_result"
    }
   ],
   "source": [
    "turista_corr.head()"
   ]
  },
  {
   "cell_type": "code",
   "execution_count": 122,
   "metadata": {},
   "outputs": [],
   "source": [
    "turista_corr = turista.corr()"
   ]
  },
  {
   "cell_type": "code",
   "execution_count": 118,
   "metadata": {},
   "outputs": [],
   "source": [
    "turista = turista.drop('genero', axis=1)"
   ]
  },
  {
   "cell_type": "code",
   "execution_count": 115,
   "metadata": {},
   "outputs": [],
   "source": [
    "turista = turista.drop('nome', axis=1)"
   ]
  },
  {
   "cell_type": "code",
   "execution_count": 106,
   "metadata": {},
   "outputs": [],
   "source": [
    "pto_tur2 = pto_tur2.drop('Latitude/Longitude', axis=1)"
   ]
  },
  {
   "cell_type": "code",
   "execution_count": 108,
   "metadata": {},
   "outputs": [],
   "source": [
    "pto_tur2 = pto_tur2.drop('HorÃ¡rio Funcionamento', axis=1)"
   ]
  },
  {
   "cell_type": "code",
   "execution_count": 109,
   "metadata": {},
   "outputs": [],
   "source": [
    "pto_tur2 = pto_tur2.drop('Nome', axis=1)"
   ]
  },
  {
   "cell_type": "code",
   "execution_count": null,
   "metadata": {},
   "outputs": [],
   "source": [
    "pto_tur2 = pto_tur2.drop('Latitude/Longitude', axis=1)"
   ]
  },
  {
   "cell_type": "markdown",
   "metadata": {},
   "source": [
    "# 2. Análise Gráfica"
   ]
  },
  {
   "cell_type": "markdown",
   "metadata": {},
   "source": [
    "Unidimensional"
   ]
  },
  {
   "cell_type": "markdown",
   "metadata": {},
   "source": [
    "Histograma da Avaliação dos pontos turísticos"
   ]
  },
  {
   "cell_type": "code",
   "execution_count": 92,
   "metadata": {},
   "outputs": [
    {
     "data": {
      "text/plain": [
       "<AxesSubplot: >"
      ]
     },
     "execution_count": 92,
     "metadata": {},
     "output_type": "execute_result"
    },
    {
     "data": {
      "image/png": "[encoded data removed]",
      "text/plain": [
       "<Figure size 640x480 with 1 Axes>"
      ]
     },
     "metadata": {},
     "output_type": "display_data"
    }
   ],
   "source": [
    "turista['idade'].hist(bins = 10)"
   ]
  },
  {
   "cell_type": "code",
   "execution_count": 90,
   "metadata": {},
   "outputs": [
    {
     "data": {
      "text/plain": [
       "<AxesSubplot: >"
      ]
     },
     "execution_count": 90,
     "metadata": {},
     "output_type": "execute_result"
    },
    {
     "data": {
      "image/png": "[encoded data removed]",
      "text/plain": [
       "<Figure size 640x480 with 1 Axes>"
      ]
     },
     "metadata": {},
     "output_type": "display_data"
    }
   ],
   "source": [
    "turista['viagens-pela-plataforma'].hist(bins = 10)"
   ]
  },
  {
   "cell_type": "code",
   "execution_count": 76,
   "metadata": {},
   "outputs": [
    {
     "data": {
      "text/plain": [
       "<AxesSubplot: >"
      ]
     },
     "execution_count": 76,
     "metadata": {},
     "output_type": "execute_result"
    },
    {
     "data": {
      "image/png": "[encoded data removed]",
      "text/plain": [
       "<Figure size 640x480 with 1 Axes>"
      ]
     },
     "metadata": {},
     "output_type": "display_data"
    }
   ],
   "source": [
    "pto_tur2['avaliacao'].hist(bins = 10)"
   ]
  },
  {
   "cell_type": "code",
   "execution_count": 79,
   "metadata": {},
   "outputs": [
    {
     "data": {
      "text/html": [
       "<div>\n",
       "<style scoped>\n",
       "    .dataframe tbody tr th:only-of-type {\n",
       "        vertical-align: middle;\n",
       "    }\n",
       "\n",
       "    .dataframe tbody tr th {\n",
       "        vertical-align: top;\n",
       "    }\n",
       "\n",
       "    .dataframe thead th {\n",
       "        text-align: right;\n",
       "    }\n",
       "</style>\n",
       "<table border=\"1\" class=\"dataframe\">\n",
       "  <thead>\n",
       "    <tr style=\"text-align: right;\">\n",
       "      <th></th>\n",
       "      <th>nome</th>\n",
       "      <th>genero</th>\n",
       "      <th>idade</th>\n",
       "      <th>grupo-ou-nao</th>\n",
       "      <th>local-de-origem</th>\n",
       "      <th>primeira-vez</th>\n",
       "      <th>viagens-pela-plataforma</th>\n",
       "    </tr>\n",
       "  </thead>\n",
       "  <tbody>\n",
       "    <tr>\n",
       "      <th>0</th>\n",
       "      <td>Camila</td>\n",
       "      <td>feminino</td>\n",
       "      <td>32</td>\n",
       "      <td>sim</td>\n",
       "      <td>Fortaleza</td>\n",
       "      <td>NÃ£o</td>\n",
       "      <td>4</td>\n",
       "    </tr>\n",
       "    <tr>\n",
       "      <th>1</th>\n",
       "      <td>AndrÃ©</td>\n",
       "      <td>masculino</td>\n",
       "      <td>29</td>\n",
       "      <td>nÃ£o</td>\n",
       "      <td>SÃ£o Paulo</td>\n",
       "      <td>Sim</td>\n",
       "      <td>7</td>\n",
       "    </tr>\n",
       "    <tr>\n",
       "      <th>2</th>\n",
       "      <td>Renata</td>\n",
       "      <td>feminino</td>\n",
       "      <td>27</td>\n",
       "      <td>sim</td>\n",
       "      <td>Rio de Janeiro</td>\n",
       "      <td>NÃ£o</td>\n",
       "      <td>2</td>\n",
       "    </tr>\n",
       "    <tr>\n",
       "      <th>3</th>\n",
       "      <td>Leonardo</td>\n",
       "      <td>masculino</td>\n",
       "      <td>33</td>\n",
       "      <td>sim</td>\n",
       "      <td>Salvador</td>\n",
       "      <td>Sim</td>\n",
       "      <td>5</td>\n",
       "    </tr>\n",
       "    <tr>\n",
       "      <th>4</th>\n",
       "      <td>Juliana</td>\n",
       "      <td>feminino</td>\n",
       "      <td>30</td>\n",
       "      <td>sim</td>\n",
       "      <td>Recife</td>\n",
       "      <td>NÃ£o</td>\n",
       "      <td>4</td>\n",
       "    </tr>\n",
       "  </tbody>\n",
       "</table>\n",
       "</div>"
      ],
      "text/plain": [
       "       nome     genero  idade grupo-ou-nao local-de-origem primeira-vez  \\\n",
       "0    Camila   feminino     32          sim       Fortaleza         NÃ£o   \n",
       "1    AndrÃ©  masculino     29         nÃ£o      SÃ£o Paulo          Sim   \n",
       "2    Renata   feminino     27          sim  Rio de Janeiro         NÃ£o   \n",
       "3  Leonardo  masculino     33          sim        Salvador          Sim   \n",
       "4   Juliana   feminino     30          sim          Recife         NÃ£o   \n",
       "\n",
       "   viagens-pela-plataforma  \n",
       "0                        4  \n",
       "1                        7  \n",
       "2                        2  \n",
       "3                        5  \n",
       "4                        4  "
      ]
     },
     "execution_count": 79,
     "metadata": {},
     "output_type": "execute_result"
    }
   ],
   "source": [
    "turista.head()"
   ]
  },
  {
   "cell_type": "markdown",
   "metadata": {},
   "source": [
    "Bidimensional"
   ]
  },
  {
   "cell_type": "code",
   "execution_count": 78,
   "metadata": {},
   "outputs": [],
   "source": [
    "import seaborn as sns"
   ]
  },
  {
   "cell_type": "code",
   "execution_count": 85,
   "metadata": {},
   "outputs": [
    {
     "data": {
      "text/plain": [
       "<AxesSubplot: xlabel='genero', ylabel='count'>"
      ]
     },
     "execution_count": 85,
     "metadata": {},
     "output_type": "execute_result"
    },
    {
     "data": {
      "image/png": "[encoded data removed]",
      "text/plain": [
       "<Figure size 640x480 with 1 Axes>"
      ]
     },
     "metadata": {},
     "output_type": "display_data"
    }
   ],
   "source": [
    "sns.countplot(x='genero', hue='grupo-ou-nao', data=turista)"
   ]
  },
  {
   "cell_type": "code",
   "execution_count": 84,
   "metadata": {},
   "outputs": [
    {
     "data": {
      "text/plain": [
       "<AxesSubplot: xlabel='genero', ylabel='count'>"
      ]
     },
     "execution_count": 84,
     "metadata": {},
     "output_type": "execute_result"
    },
    {
     "data": {
      "image/png": "[encoded data removed]",
      "text/plain": [
       "<Figure size 640x480 with 1 Axes>"
      ]
     },
     "metadata": {},
     "output_type": "display_data"
    }
   ],
   "source": [
    "sns.countplot(x='genero', hue='primeira-vez', data=turista)"
   ]
  },
  {
   "cell_type": "code",
   "execution_count": 83,
   "metadata": {},
   "outputs": [
    {
     "data": {
      "text/plain": [
       "<AxesSubplot: xlabel='genero', ylabel='count'>"
      ]
     },
     "execution_count": 83,
     "metadata": {},
     "output_type": "execute_result"
    },
    {
     "data": {
      "image/png": "[encoded data removed]",
      "text/plain": [
       "<Figure size 640x480 with 1 Axes>"
      ]
     },
     "metadata": {},
     "output_type": "display_data"
    }
   ],
   "source": [
    "sns.countplot(x='genero', hue='idade', data=turista)"
   ]
  },
  {
   "cell_type": "code",
   "execution_count": 82,
   "metadata": {},
   "outputs": [
    {
     "data": {
      "text/plain": [
       "<AxesSubplot: xlabel='genero', ylabel='count'>"
      ]
     },
     "execution_count": 82,
     "metadata": {},
     "output_type": "execute_result"
    },
    {
     "data": {
      "image/png": "[encoded data removed]",
      "text/plain": [
       "<Figure size 640x480 with 1 Axes>"
      ]
     },
     "metadata": {},
     "output_type": "display_data"
    }
   ],
   "source": [
    "sns.countplot(x='genero', hue='viagens-pela-plataforma', data=turista)"
   ]
  },
  {
   "cell_type": "code",
   "execution_count": 87,
   "metadata": {},
   "outputs": [
    {
     "data": {
      "text/plain": [
       "<AxesSubplot: xlabel='genero', ylabel='count'>"
      ]
     },
     "execution_count": 87,
     "metadata": {},
     "output_type": "execute_result"
    },
    {
     "data": {
      "image/png": "[encoded data removed]",
      "text/plain": [
       "<Figure size 640x480 with 1 Axes>"
      ]
     },
     "metadata": {},
     "output_type": "display_data"
    }
   ],
   "source": [
    "sns.countplot(x='genero', hue='local-de-origem', data=turista)"
   ]
  },
  {
   "cell_type": "code",
   "execution_count": 80,
   "metadata": {},
   "outputs": [
    {
     "data": {
      "text/plain": [
       "<AxesSubplot: xlabel='grupo-ou-nao', ylabel='count'>"
      ]
     },
     "execution_count": 80,
     "metadata": {},
     "output_type": "execute_result"
    },
    {
     "data": {
      "image/png": "[encoded data removed]",
      "text/plain": [
       "<Figure size 640x480 with 1 Axes>"
      ]
     },
     "metadata": {},
     "output_type": "display_data"
    }
   ],
   "source": [
    "sns.countplot(x='grupo-ou-nao', hue='local-de-origem', data=turista)"
   ]
  },
  {
   "cell_type": "code",
   "execution_count": 77,
   "metadata": {},
   "outputs": [
    {
     "data": {
      "text/html": [
       "<div>\n",
       "<style scoped>\n",
       "    .dataframe tbody tr th:only-of-type {\n",
       "        vertical-align: middle;\n",
       "    }\n",
       "\n",
       "    .dataframe tbody tr th {\n",
       "        vertical-align: top;\n",
       "    }\n",
       "\n",
       "    .dataframe thead th {\n",
       "        text-align: right;\n",
       "    }\n",
       "</style>\n",
       "<table border=\"1\" class=\"dataframe\">\n",
       "  <thead>\n",
       "    <tr style=\"text-align: right;\">\n",
       "      <th></th>\n",
       "      <th>Nome</th>\n",
       "      <th>Cidade</th>\n",
       "      <th>Tipo</th>\n",
       "      <th>Latitude/Longitude</th>\n",
       "      <th>HorÃ¡rio Funcionamento</th>\n",
       "      <th>Categoria</th>\n",
       "      <th>avaliacao</th>\n",
       "    </tr>\n",
       "  </thead>\n",
       "  <tbody>\n",
       "    <tr>\n",
       "      <th>0</th>\n",
       "      <td>Cachoeira do azeite</td>\n",
       "      <td>Piedade do Rio Grande</td>\n",
       "      <td>Cachoeira</td>\n",
       "      <td>-21.54726161249888, -44.18294297606091</td>\n",
       "      <td>24h</td>\n",
       "      <td>Aberto</td>\n",
       "      <td>4.8</td>\n",
       "    </tr>\n",
       "    <tr>\n",
       "      <th>1</th>\n",
       "      <td>Igreja Nossa senhora do RosÃ¡rio</td>\n",
       "      <td>Piedade do Rio Grande</td>\n",
       "      <td>Igreja</td>\n",
       "      <td>-21.456223587339817, -44.198668769798225</td>\n",
       "      <td>NaN</td>\n",
       "      <td>Fechado</td>\n",
       "      <td>4.8</td>\n",
       "    </tr>\n",
       "    <tr>\n",
       "      <th>2</th>\n",
       "      <td>Igreja de Pedra (Nossa Senhora do RosÃ¡rio)</td>\n",
       "      <td>Coronel Xavier Chaves - MG</td>\n",
       "      <td>igreja</td>\n",
       "      <td>-21.02130878474155, -44.22366983310554</td>\n",
       "      <td>NaN</td>\n",
       "      <td>Fechado</td>\n",
       "      <td>5.0</td>\n",
       "    </tr>\n",
       "    <tr>\n",
       "      <th>3</th>\n",
       "      <td>PraÃ§a Salvador LourenÃ§o</td>\n",
       "      <td>Piedade do Rio Grande</td>\n",
       "      <td>PraÃ§a</td>\n",
       "      <td>-21.45942305470554, -44.197974311525456</td>\n",
       "      <td>24h</td>\n",
       "      <td>Aberto</td>\n",
       "      <td>4.7</td>\n",
       "    </tr>\n",
       "    <tr>\n",
       "      <th>4</th>\n",
       "      <td>Cachoeira do Atalho</td>\n",
       "      <td>Dores dos campos</td>\n",
       "      <td>Cachoeira</td>\n",
       "      <td>-21.101421336137957, -44.0321813889203</td>\n",
       "      <td>24h</td>\n",
       "      <td>Aberto</td>\n",
       "      <td>4.6</td>\n",
       "    </tr>\n",
       "  </tbody>\n",
       "</table>\n",
       "</div>"
      ],
      "text/plain": [
       "                                          Nome                      Cidade  \\\n",
       "0                          Cachoeira do azeite       Piedade do Rio Grande   \n",
       "1             Igreja Nossa senhora do RosÃ¡rio       Piedade do Rio Grande   \n",
       "2  Igreja de Pedra (Nossa Senhora do RosÃ¡rio)  Coronel Xavier Chaves - MG   \n",
       "3                   PraÃ§a Salvador LourenÃ§o        Piedade do Rio Grande   \n",
       "4                         Cachoeira do Atalho             Dores dos campos   \n",
       "\n",
       "        Tipo                        Latitude/Longitude HorÃ¡rio Funcionamento  \\\n",
       "0  Cachoeira    -21.54726161249888, -44.18294297606091                    24h   \n",
       "1     Igreja  -21.456223587339817, -44.198668769798225                    NaN   \n",
       "2     igreja    -21.02130878474155, -44.22366983310554                    NaN   \n",
       "3     PraÃ§a   -21.45942305470554, -44.197974311525456                    24h   \n",
       "4  Cachoeira    -21.101421336137957, -44.0321813889203                    24h   \n",
       "\n",
       "  Categoria  avaliacao  \n",
       "0    Aberto        4.8  \n",
       "1   Fechado        4.8  \n",
       "2   Fechado        5.0  \n",
       "3    Aberto        4.7  \n",
       "4    Aberto        4.6  "
      ]
     },
     "execution_count": 77,
     "metadata": {},
     "output_type": "execute_result"
    }
   ],
   "source": [
    "pto_tur2.head()"
   ]
  },
  {
   "cell_type": "markdown",
   "metadata": {},
   "source": [
    "## 3. Análise descritiva"
   ]
  },
  {
   "cell_type": "markdown",
   "metadata": {},
   "source": [
    "Análise de variabilidade das avaliações dos pontos turísticos"
   ]
  },
  {
   "cell_type": "code",
   "execution_count": 67,
   "metadata": {},
   "outputs": [],
   "source": [
    "import numpy as np"
   ]
  },
  {
   "cell_type": "code",
   "execution_count": 69,
   "metadata": {},
   "outputs": [
    {
     "data": {
      "text/plain": [
       "4.3"
      ]
     },
     "execution_count": 69,
     "metadata": {},
     "output_type": "execute_result"
    }
   ],
   "source": [
    "np.percentile(pto_tur2['avaliacao'], 25)\n"
   ]
  },
  {
   "cell_type": "code",
   "execution_count": 70,
   "metadata": {},
   "outputs": [
    {
     "data": {
      "text/plain": [
       "4.7"
      ]
     },
     "execution_count": 70,
     "metadata": {},
     "output_type": "execute_result"
    }
   ],
   "source": [
    "np.percentile(pto_tur2['avaliacao'], 50)"
   ]
  },
  {
   "cell_type": "code",
   "execution_count": 71,
   "metadata": {},
   "outputs": [
    {
     "data": {
      "text/plain": [
       "4.8"
      ]
     },
     "execution_count": 71,
     "metadata": {},
     "output_type": "execute_result"
    }
   ],
   "source": [
    "np.percentile(pto_tur2['avaliacao'], 75)"
   ]
  },
  {
   "cell_type": "code",
   "execution_count": 93,
   "metadata": {},
   "outputs": [
    {
     "data": {
      "text/plain": [
       "count    23.000000\n",
       "mean      4.565217\n",
       "std       0.380918\n",
       "min       3.600000\n",
       "25%       4.300000\n",
       "50%       4.700000\n",
       "75%       4.800000\n",
       "max       5.000000\n",
       "Name: avaliacao, dtype: float64"
      ]
     },
     "execution_count": 93,
     "metadata": {},
     "output_type": "execute_result"
    }
   ],
   "source": [
    "pto_tur2['avaliacao'].describe()"
   ]
  },
  {
   "cell_type": "code",
   "execution_count": 94,
   "metadata": {},
   "outputs": [
    {
     "data": {
      "text/plain": [
       "5         Hotel irmÃ£os Fagundes\n",
       "6    Quincas hotel e restaurante\n",
       "Name: Nome, dtype: object"
      ]
     },
     "execution_count": 94,
     "metadata": {},
     "output_type": "execute_result"
    }
   ],
   "source": [
    "pto_tur2.loc[pto_tur2['avaliacao'] <= 4.0 ]['Nome']\n"
   ]
  },
  {
   "cell_type": "code",
   "execution_count": 63,
   "metadata": {},
   "outputs": [
    {
     "data": {
      "text/plain": [
       "<AxesSubplot: >"
      ]
     },
     "execution_count": 63,
     "metadata": {},
     "output_type": "execute_result"
    },
    {
     "data": {
      "image/png": "[encoded data removed]",
      "text/plain": [
       "<Figure size 640x480 with 1 Axes>"
      ]
     },
     "metadata": {},
     "output_type": "display_data"
    }
   ],
   "source": [
    "pto_tur2['avaliacao'].hist(bins = 10)"
   ]
  },
  {
   "cell_type": "code",
   "execution_count": 55,
   "metadata": {},
   "outputs": [],
   "source": [
    "def calcular_distancia (longitude1, latitude1, longitude2, latitude2):\n",
    "    \n",
    "    coords_1 = (longitude1, latitude1)\n",
    "    coords_2 = (longitude2, latitude2)\n",
    "    \n",
    "    dist = geopy.distance.geodesic(coords_1, coords_2).km\n",
    "    return dist"
   ]
  },
  {
   "cell_type": "code",
   "execution_count": 57,
   "metadata": {},
   "outputs": [
    {
     "ename": "KeyError",
     "evalue": "'avaliacao'",
     "output_type": "error",
     "traceback": [
      "\u001b[1;31m---------------------------------------------------------------------------\u001b[0m",
      "\u001b[1;31mKeyError\u001b[0m                                  Traceback (most recent call last)",
      "File \u001b[1;32mc:\\Users\\gugah\\AppData\\Local\\Programs\\Python\\Python311\\Lib\\site-packages\\pandas\\core\\indexes\\base.py:3802\u001b[0m, in \u001b[0;36mIndex.get_loc\u001b[1;34m(self, key, method, tolerance)\u001b[0m\n\u001b[0;32m   3801\u001b[0m \u001b[39mtry\u001b[39;00m:\n\u001b[1;32m-> 3802\u001b[0m     \u001b[39mreturn\u001b[39;00m \u001b[39mself\u001b[39;49m\u001b[39m.\u001b[39;49m_engine\u001b[39m.\u001b[39;49mget_loc(casted_key)\n\u001b[0;32m   3803\u001b[0m \u001b[39mexcept\u001b[39;00m \u001b[39mKeyError\u001b[39;00m \u001b[39mas\u001b[39;00m err:\n",
      "File \u001b[1;32mc:\\Users\\gugah\\AppData\\Local\\Programs\\Python\\Python311\\Lib\\site-packages\\pandas\\_libs\\index.pyx:138\u001b[0m, in \u001b[0;36mpandas._libs.index.IndexEngine.get_loc\u001b[1;34m()\u001b[0m\n",
      "File \u001b[1;32mc:\\Users\\gugah\\AppData\\Local\\Programs\\Python\\Python311\\Lib\\site-packages\\pandas\\_libs\\index.pyx:165\u001b[0m, in \u001b[0;36mpandas._libs.index.IndexEngine.get_loc\u001b[1;34m()\u001b[0m\n",
      "File \u001b[1;32mpandas\\_libs\\hashtable_class_helper.pxi:5745\u001b[0m, in \u001b[0;36mpandas._libs.hashtable.PyObjectHashTable.get_item\u001b[1;34m()\u001b[0m\n",
      "File \u001b[1;32mpandas\\_libs\\hashtable_class_helper.pxi:5753\u001b[0m, in \u001b[0;36mpandas._libs.hashtable.PyObjectHashTable.get_item\u001b[1;34m()\u001b[0m\n",
      "\u001b[1;31mKeyError\u001b[0m: 'avaliacao'",
      "\nThe above exception was the direct cause of the following exception:\n",
      "\u001b[1;31mKeyError\u001b[0m                                  Traceback (most recent call last)",
      "\u001b[1;32mc:\\Users\\gugah\\OneDrive\\Área de Trabalho\\BD-TP\\teste.ipynb Cell 14\u001b[0m line \u001b[0;36m1\n\u001b[1;32m----> <a href='vscode-notebook-cell:/c%3A/Users/gugah/OneDrive/%C3%81rea%20de%20Trabalho/BD-TP/teste.ipynb#X50sZmlsZQ%3D%3D?line=0'>1</a>\u001b[0m pto_tur2[\u001b[39m'\u001b[39;49m\u001b[39mavaliacao\u001b[39;49m\u001b[39m'\u001b[39;49m]\u001b[39m.\u001b[39mhist(bins \u001b[39m=\u001b[39m \u001b[39m10\u001b[39m)\n",
      "File \u001b[1;32mc:\\Users\\gugah\\AppData\\Local\\Programs\\Python\\Python311\\Lib\\site-packages\\pandas\\core\\frame.py:3807\u001b[0m, in \u001b[0;36mDataFrame.__getitem__\u001b[1;34m(self, key)\u001b[0m\n\u001b[0;32m   3805\u001b[0m \u001b[39mif\u001b[39;00m \u001b[39mself\u001b[39m\u001b[39m.\u001b[39mcolumns\u001b[39m.\u001b[39mnlevels \u001b[39m>\u001b[39m \u001b[39m1\u001b[39m:\n\u001b[0;32m   3806\u001b[0m     \u001b[39mreturn\u001b[39;00m \u001b[39mself\u001b[39m\u001b[39m.\u001b[39m_getitem_multilevel(key)\n\u001b[1;32m-> 3807\u001b[0m indexer \u001b[39m=\u001b[39m \u001b[39mself\u001b[39;49m\u001b[39m.\u001b[39;49mcolumns\u001b[39m.\u001b[39;49mget_loc(key)\n\u001b[0;32m   3808\u001b[0m \u001b[39mif\u001b[39;00m is_integer(indexer):\n\u001b[0;32m   3809\u001b[0m     indexer \u001b[39m=\u001b[39m [indexer]\n",
      "File \u001b[1;32mc:\\Users\\gugah\\AppData\\Local\\Programs\\Python\\Python311\\Lib\\site-packages\\pandas\\core\\indexes\\base.py:3804\u001b[0m, in \u001b[0;36mIndex.get_loc\u001b[1;34m(self, key, method, tolerance)\u001b[0m\n\u001b[0;32m   3802\u001b[0m     \u001b[39mreturn\u001b[39;00m \u001b[39mself\u001b[39m\u001b[39m.\u001b[39m_engine\u001b[39m.\u001b[39mget_loc(casted_key)\n\u001b[0;32m   3803\u001b[0m \u001b[39mexcept\u001b[39;00m \u001b[39mKeyError\u001b[39;00m \u001b[39mas\u001b[39;00m err:\n\u001b[1;32m-> 3804\u001b[0m     \u001b[39mraise\u001b[39;00m \u001b[39mKeyError\u001b[39;00m(key) \u001b[39mfrom\u001b[39;00m \u001b[39merr\u001b[39;00m\n\u001b[0;32m   3805\u001b[0m \u001b[39mexcept\u001b[39;00m \u001b[39mTypeError\u001b[39;00m:\n\u001b[0;32m   3806\u001b[0m     \u001b[39m# If we have a listlike key, _check_indexing_error will raise\u001b[39;00m\n\u001b[0;32m   3807\u001b[0m     \u001b[39m#  InvalidIndexError. Otherwise we fall through and re-raise\u001b[39;00m\n\u001b[0;32m   3808\u001b[0m     \u001b[39m#  the TypeError.\u001b[39;00m\n\u001b[0;32m   3809\u001b[0m     \u001b[39mself\u001b[39m\u001b[39m.\u001b[39m_check_indexing_error(key)\n",
      "\u001b[1;31mKeyError\u001b[0m: 'avaliacao'"
     ]
    }
   ],
   "source": [
    "pto_tur2['avaliacao'].hist(bins = 10)"
   ]
  },
  {
   "cell_type": "code",
   "execution_count": 43,
   "metadata": {},
   "outputs": [
    {
     "data": {
      "text/html": [
       "<div>\n",
       "<style scoped>\n",
       "    .dataframe tbody tr th:only-of-type {\n",
       "        vertical-align: middle;\n",
       "    }\n",
       "\n",
       "    .dataframe tbody tr th {\n",
       "        vertical-align: top;\n",
       "    }\n",
       "\n",
       "    .dataframe thead th {\n",
       "        text-align: right;\n",
       "    }\n",
       "</style>\n",
       "<table border=\"1\" class=\"dataframe\">\n",
       "  <thead>\n",
       "    <tr style=\"text-align: right;\">\n",
       "      <th></th>\n",
       "      <th>nome</th>\n",
       "      <th>tipo</th>\n",
       "      <th>longitude</th>\n",
       "      <th>latitude</th>\n",
       "      <th>endereco</th>\n",
       "      <th>avaliacao</th>\n",
       "      <th>horario-func</th>\n",
       "      <th>tipo-ambiente</th>\n",
       "      <th>cidade</th>\n",
       "    </tr>\n",
       "  </thead>\n",
       "  <tbody>\n",
       "    <tr>\n",
       "      <th>0</th>\n",
       "      <td>Restaurante Aconchegante</td>\n",
       "      <td>Restaurante</td>\n",
       "      <td>-43.1754</td>\n",
       "      <td>-22.9173</td>\n",
       "      <td>Rua das Flores</td>\n",
       "      <td>4.5</td>\n",
       "      <td>12:00-22:00</td>\n",
       "      <td>Comida Variada</td>\n",
       "      <td>SÃ£o Paulo</td>\n",
       "    </tr>\n",
       "    <tr>\n",
       "      <th>1</th>\n",
       "      <td>CafÃ© do Bairro</td>\n",
       "      <td>CafÃ©</td>\n",
       "      <td>-46.6345</td>\n",
       "      <td>-23.5568</td>\n",
       "      <td>Avenida Central</td>\n",
       "      <td>4.2</td>\n",
       "      <td>07:00-19:00</td>\n",
       "      <td>AmigÃ¡vel</td>\n",
       "      <td>Rio de Janeiro</td>\n",
       "    </tr>\n",
       "    <tr>\n",
       "      <th>2</th>\n",
       "      <td>Pizzaria Saborosa</td>\n",
       "      <td>Pizzaria</td>\n",
       "      <td>-47.3667</td>\n",
       "      <td>-23.5632</td>\n",
       "      <td>Rua das Pizzas</td>\n",
       "      <td>4.7</td>\n",
       "      <td>17:00-23:00</td>\n",
       "      <td>Aconchegante</td>\n",
       "      <td>Curitiba</td>\n",
       "    </tr>\n",
       "    <tr>\n",
       "      <th>3</th>\n",
       "      <td>Bar do Samba</td>\n",
       "      <td>Bar</td>\n",
       "      <td>-48.0711</td>\n",
       "      <td>-22.8362</td>\n",
       "      <td>Avenida do Samba</td>\n",
       "      <td>4.0</td>\n",
       "      <td>18:00-02:00</td>\n",
       "      <td>Animado</td>\n",
       "      <td>Salvador</td>\n",
       "    </tr>\n",
       "    <tr>\n",
       "      <th>4</th>\n",
       "      <td>Restaurante da VovÃ³</td>\n",
       "      <td>Restaurante</td>\n",
       "      <td>-46.5918</td>\n",
       "      <td>-23.5387</td>\n",
       "      <td>Rua das RecordaÃ§Ãµes</td>\n",
       "      <td>4.8</td>\n",
       "      <td>11:30-20:30</td>\n",
       "      <td>Tradicional</td>\n",
       "      <td>Porto Alegre</td>\n",
       "    </tr>\n",
       "  </tbody>\n",
       "</table>\n",
       "</div>"
      ],
      "text/plain": [
       "                       nome         tipo  longitude  latitude  \\\n",
       "0  Restaurante Aconchegante  Restaurante   -43.1754  -22.9173   \n",
       "1           CafÃ© do Bairro        CafÃ©   -46.6345  -23.5568   \n",
       "2         Pizzaria Saborosa     Pizzaria   -47.3667  -23.5632   \n",
       "3              Bar do Samba          Bar   -48.0711  -22.8362   \n",
       "4      Restaurante da VovÃ³  Restaurante   -46.5918  -23.5387   \n",
       "\n",
       "                endereco  avaliacao horario-func   tipo-ambiente  \\\n",
       "0         Rua das Flores        4.5  12:00-22:00  Comida Variada   \n",
       "1        Avenida Central        4.2  07:00-19:00       AmigÃ¡vel   \n",
       "2         Rua das Pizzas        4.7  17:00-23:00    Aconchegante   \n",
       "3       Avenida do Samba        4.0  18:00-02:00         Animado   \n",
       "4  Rua das RecordaÃ§Ãµes        4.8  11:30-20:30     Tradicional   \n",
       "\n",
       "           cidade  \n",
       "0      SÃ£o Paulo  \n",
       "1  Rio de Janeiro  \n",
       "2        Curitiba  \n",
       "3        Salvador  \n",
       "4    Porto Alegre  "
      ]
     },
     "execution_count": 43,
     "metadata": {},
     "output_type": "execute_result"
    }
   ],
   "source": [
    "pto_tur.head()"
   ]
  },
  {
   "cell_type": "markdown",
   "metadata": {},
   "source": [
    "Turista"
   ]
  },
  {
   "cell_type": "markdown",
   "metadata": {},
   "source": [
    "## Gráfio de densidade"
   ]
  },
  {
   "cell_type": "markdown",
   "metadata": {},
   "source": [
    "Ponto Turístico"
   ]
  },
  {
   "cell_type": "markdown",
   "metadata": {},
   "source": [
    "Turista"
   ]
  },
  {
   "cell_type": "code",
   "execution_count": 29,
   "metadata": {},
   "outputs": [
    {
     "data": {
      "text/plain": [
       "<AxesSubplot: ylabel='Density'>"
      ]
     },
     "execution_count": 29,
     "metadata": {},
     "output_type": "execute_result"
    },
    {
     "data": {
      "image/png": "[encoded data removed]",
      "text/plain": [
       "<Figure size 640x480 with 1 Axes>"
      ]
     },
     "metadata": {},
     "output_type": "display_data"
    }
   ],
   "source": [
    "turista['idade'].plot(kind='density')"
   ]
  },
  {
   "cell_type": "code",
   "execution_count": 23,
   "metadata": {},
   "outputs": [
    {
     "name": "stderr",
     "output_type": "stream",
     "text": [
      "C:\\Users\\gugah\\AppData\\Local\\Temp\\ipykernel_22736\\1302409393.py:2: UserWarning: \n",
      "\n",
      "`distplot` is a deprecated function and will be removed in seaborn v0.14.0.\n",
      "\n",
      "Please adapt your code to use either `displot` (a figure-level function with\n",
      "similar flexibility) or `histplot` (an axes-level function for histograms).\n",
      "\n",
      "For a guide to updating your code to use the new functions, please see\n",
      "https://gist.github.com/mwaskom/de44147ed2974457ad6372750bbe5751\n",
      "\n",
      "  sns.distplot(turista['idade'])\n"
     ]
    },
    {
     "data": {
      "text/plain": [
       "<AxesSubplot: xlabel='idade', ylabel='Density'>"
      ]
     },
     "execution_count": 23,
     "metadata": {},
     "output_type": "execute_result"
    },
    {
     "data": {
      "image/png": "[encoded data removed]",
      "text/plain": [
       "<Figure size 640x480 with 1 Axes>"
      ]
     },
     "metadata": {},
     "output_type": "display_data"
    }
   ],
   "source": [
    "import seaborn as sns\n",
    "sns.distplot(turista['idade'])"
   ]
  },
  {
   "cell_type": "code",
   "execution_count": 31,
   "metadata": {},
   "outputs": [],
   "source": [
    "def gerar_boxplot(x):\n",
    "    y = sns.boxplot(x='idade', data=turista)\n",
    "    return y"
   ]
  },
  {
   "cell_type": "code",
   "execution_count": 36,
   "metadata": {},
   "outputs": [
    {
     "data": {
      "text/plain": [
       "0.5779431807206036"
      ]
     },
     "execution_count": 36,
     "metadata": {},
     "output_type": "execute_result"
    }
   ],
   "source": [
    "from scipy.stats import skew\n",
    "skew(turista['idade'])"
   ]
  },
  {
   "cell_type": "code",
   "execution_count": 34,
   "metadata": {},
   "outputs": [
    {
     "data": {
      "text/plain": [
       "<AxesSubplot: xlabel='idade'>"
      ]
     },
     "execution_count": 34,
     "metadata": {},
     "output_type": "execute_result"
    },
    {
     "data": {
      "image/png": "[encoded data removed]",
      "text/plain": [
       "<Figure size 640x480 with 1 Axes>"
      ]
     },
     "metadata": {},
     "output_type": "display_data"
    }
   ],
   "source": [
    "\n",
    "x = 'idade'\n",
    "gerar_boxplot(x)"
   ]
  },
  {
   "cell_type": "code",
   "execution_count": 25,
   "metadata": {},
   "outputs": [],
   "source": [
    "sexo = turista['genero'].value_counts()"
   ]
  },
  {
   "cell_type": "code",
   "execution_count": 26,
   "metadata": {},
   "outputs": [
    {
     "data": {
      "text/plain": [
       "<AxesSubplot: ylabel='genero'>"
      ]
     },
     "execution_count": 26,
     "metadata": {},
     "output_type": "execute_result"
    },
    {
     "data": {
      "image/png": "[encoded data removed]",
      "text/plain": [
       "<Figure size 640x480 with 1 Axes>"
      ]
     },
     "metadata": {},
     "output_type": "display_data"
    }
   ],
   "source": [
    "\n",
    "sexo.plot(kind='pie', autopct='%1.2f%%')"
   ]
  },
  {
   "cell_type": "markdown",
   "metadata": {},
   "source": [
    "bidimensional countxqual"
   ]
  },
  {
   "cell_type": "code",
   "execution_count": 7,
   "metadata": {},
   "outputs": [],
   "source": [
    "import pandas as pd\n",
    "import numpy as np\n",
    "import seaborn as sns\n",
    "import matplotlib.pyplot as plt"
   ]
  },
  {
   "cell_type": "code",
   "execution_count": 30,
   "metadata": {},
   "outputs": [
    {
     "data": {
      "text/plain": [
       "<AxesSubplot: xlabel='genero', ylabel='count'>"
      ]
     },
     "execution_count": 30,
     "metadata": {},
     "output_type": "execute_result"
    },
    {
     "data": {
      "image/png": "[encoded data removed]",
      "text/plain": [
       "<Figure size 640x480 with 1 Axes>"
      ]
     },
     "metadata": {},
     "output_type": "display_data"
    }
   ],
   "source": [
    "sns.countplot(x='genero', hue='primeira-vez', data=turista)"
   ]
  },
  {
   "cell_type": "code",
   "execution_count": 39,
   "metadata": {},
   "outputs": [
    {
     "data": {
      "text/plain": [
       "<AxesSubplot: xlabel='genero', ylabel='count'>"
      ]
     },
     "execution_count": 39,
     "metadata": {},
     "output_type": "execute_result"
    },
    {
     "data": {
      "image/png": "[encoded data removed]",
      "text/plain": [
       "<Figure size 640x480 with 1 Axes>"
      ]
     },
     "metadata": {},
     "output_type": "display_data"
    }
   ],
   "source": [
    "sns.countplot(x='genero', hue='viagens-pela-plataforma', data=turista)"
   ]
  },
  {
   "cell_type": "markdown",
   "metadata": {},
   "source": [
    "## Contando valores únicos"
   ]
  },
  {
   "cell_type": "code",
   "execution_count": 37,
   "metadata": {},
   "outputs": [
    {
     "data": {
      "text/plain": [
       "12"
      ]
     },
     "execution_count": 37,
     "metadata": {},
     "output_type": "execute_result"
    }
   ],
   "source": [
    "turista['local-de-origem'].nunique()"
   ]
  }
 ],
 "metadata": {
  "kernelspec": {
   "display_name": "Python 3",
   "language": "python",
   "name": "python3"
  },
  "language_info": {
   "codemirror_mode": {
    "name": "ipython",
    "version": 3
   },
   "file_extension": ".py",
   "mimetype": "text/x-python",
   "name": "python",
   "nbconvert_exporter": "python",
   "pygments_lexer": "ipython3",
   "version": "3.11.2"
  }
 },
 "nbformat": 4,
 "nbformat_minor": 2
}
