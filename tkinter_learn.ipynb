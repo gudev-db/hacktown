{
 "cells": [
  {
   "cell_type": "code",
   "execution_count": null,
   "metadata": {},
   "outputs": [],
   "source": [
    "import pandas as pd"
   ]
  },
  {
   "cell_type": "code",
   "execution_count": 4,
   "metadata": {},
   "outputs": [
    {
     "data": {
      "text/html": [
       "<div>\n",
       "<style scoped>\n",
       "    .dataframe tbody tr th:only-of-type {\n",
       "        vertical-align: middle;\n",
       "    }\n",
       "\n",
       "    .dataframe tbody tr th {\n",
       "        vertical-align: top;\n",
       "    }\n",
       "\n",
       "    .dataframe thead th {\n",
       "        text-align: right;\n",
       "    }\n",
       "</style>\n",
       "<table border=\"1\" class=\"dataframe\">\n",
       "  <thead>\n",
       "    <tr style=\"text-align: right;\">\n",
       "      <th></th>\n",
       "      <th>nome</th>\n",
       "      <th>genero</th>\n",
       "      <th>idade</th>\n",
       "      <th>grupo-ou-nao</th>\n",
       "      <th>local-de-origem</th>\n",
       "      <th>primeira-vez</th>\n",
       "      <th>viagens-pela-plataforma</th>\n",
       "    </tr>\n",
       "  </thead>\n",
       "  <tbody>\n",
       "    <tr>\n",
       "      <th>0</th>\n",
       "      <td>Camila</td>\n",
       "      <td>feminino</td>\n",
       "      <td>32</td>\n",
       "      <td>sim</td>\n",
       "      <td>Fortaleza</td>\n",
       "      <td>NÃ£o</td>\n",
       "      <td>4</td>\n",
       "    </tr>\n",
       "    <tr>\n",
       "      <th>1</th>\n",
       "      <td>AndrÃ©</td>\n",
       "      <td>masculino</td>\n",
       "      <td>29</td>\n",
       "      <td>nÃ£o</td>\n",
       "      <td>SÃ£o Paulo</td>\n",
       "      <td>Sim</td>\n",
       "      <td>7</td>\n",
       "    </tr>\n",
       "    <tr>\n",
       "      <th>2</th>\n",
       "      <td>Renata</td>\n",
       "      <td>feminino</td>\n",
       "      <td>27</td>\n",
       "      <td>sim</td>\n",
       "      <td>Rio de Janeiro</td>\n",
       "      <td>NÃ£o</td>\n",
       "      <td>2</td>\n",
       "    </tr>\n",
       "    <tr>\n",
       "      <th>3</th>\n",
       "      <td>Leonardo</td>\n",
       "      <td>masculino</td>\n",
       "      <td>33</td>\n",
       "      <td>sim</td>\n",
       "      <td>Salvador</td>\n",
       "      <td>Sim</td>\n",
       "      <td>5</td>\n",
       "    </tr>\n",
       "    <tr>\n",
       "      <th>4</th>\n",
       "      <td>Juliana</td>\n",
       "      <td>feminino</td>\n",
       "      <td>30</td>\n",
       "      <td>sim</td>\n",
       "      <td>Recife</td>\n",
       "      <td>NÃ£o</td>\n",
       "      <td>4</td>\n",
       "    </tr>\n",
       "  </tbody>\n",
       "</table>\n",
       "</div>"
      ],
      "text/plain": [
       "       nome     genero  idade grupo-ou-nao local-de-origem primeira-vez  \\\n",
       "0    Camila   feminino     32          sim       Fortaleza         NÃ£o   \n",
       "1    AndrÃ©  masculino     29         nÃ£o      SÃ£o Paulo          Sim   \n",
       "2    Renata   feminino     27          sim  Rio de Janeiro         NÃ£o   \n",
       "3  Leonardo  masculino     33          sim        Salvador          Sim   \n",
       "4   Juliana   feminino     30          sim          Recife         NÃ£o   \n",
       "\n",
       "   viagens-pela-plataforma  \n",
       "0                        4  \n",
       "1                        7  \n",
       "2                        2  \n",
       "3                        5  \n",
       "4                        4  "
      ]
     },
     "execution_count": 4,
     "metadata": {},
     "output_type": "execute_result"
    }
   ],
   "source": [
    "data1 = pd.read_csv(\"turista.csv\", encoding='iso-8859-1')\n",
    "df1 = pd.DataFrame(data1)\n",
    "df1.head()"
   ]
  },
  {
   "cell_type": "code",
   "execution_count": 2,
   "metadata": {},
   "outputs": [
    {
     "ename": "KeyError",
     "evalue": "\"None of [Index(['country', 'gdp_per_capita'], dtype='object')] are in the [columns]\"",
     "output_type": "error",
     "traceback": [
      "\u001b[1;31m---------------------------------------------------------------------------\u001b[0m",
      "\u001b[1;31mKeyError\u001b[0m                                  Traceback (most recent call last)",
      "\u001b[1;32mc:\\Users\\gugah\\OneDrive\\Área de Trabalho\\BD-TP\\tkinter_learn.ipynb Cell 2\u001b[0m line \u001b[0;36m2\n\u001b[0;32m     <a href='vscode-notebook-cell:/c%3A/Users/gugah/OneDrive/%C3%81rea%20de%20Trabalho/BD-TP/tkinter_learn.ipynb#W0sZmlsZQ%3D%3D?line=22'>23</a>\u001b[0m bar1 \u001b[39m=\u001b[39m FigureCanvasTkAgg(figure1, root)\n\u001b[0;32m     <a href='vscode-notebook-cell:/c%3A/Users/gugah/OneDrive/%C3%81rea%20de%20Trabalho/BD-TP/tkinter_learn.ipynb#W0sZmlsZQ%3D%3D?line=23'>24</a>\u001b[0m bar1\u001b[39m.\u001b[39mget_tk_widget()\u001b[39m.\u001b[39mpack(side\u001b[39m=\u001b[39mtk\u001b[39m.\u001b[39mLEFT, fill\u001b[39m=\u001b[39mtk\u001b[39m.\u001b[39mBOTH)\n\u001b[1;32m---> <a href='vscode-notebook-cell:/c%3A/Users/gugah/OneDrive/%C3%81rea%20de%20Trabalho/BD-TP/tkinter_learn.ipynb#W0sZmlsZQ%3D%3D?line=24'>25</a>\u001b[0m df1 \u001b[39m=\u001b[39m df1[[\u001b[39m'\u001b[39;49m\u001b[39mcountry\u001b[39;49m\u001b[39m'\u001b[39;49m, \u001b[39m'\u001b[39;49m\u001b[39mgdp_per_capita\u001b[39;49m\u001b[39m'\u001b[39;49m]]\u001b[39m.\u001b[39mgroupby(\u001b[39m'\u001b[39m\u001b[39mcountry\u001b[39m\u001b[39m'\u001b[39m)\u001b[39m.\u001b[39msum()\n\u001b[0;32m     <a href='vscode-notebook-cell:/c%3A/Users/gugah/OneDrive/%C3%81rea%20de%20Trabalho/BD-TP/tkinter_learn.ipynb#W0sZmlsZQ%3D%3D?line=25'>26</a>\u001b[0m df1\u001b[39m.\u001b[39mplot(kind\u001b[39m=\u001b[39m\u001b[39m'\u001b[39m\u001b[39mbar\u001b[39m\u001b[39m'\u001b[39m, legend\u001b[39m=\u001b[39m\u001b[39mTrue\u001b[39;00m, ax\u001b[39m=\u001b[39max1)\n\u001b[0;32m     <a href='vscode-notebook-cell:/c%3A/Users/gugah/OneDrive/%C3%81rea%20de%20Trabalho/BD-TP/tkinter_learn.ipynb#W0sZmlsZQ%3D%3D?line=26'>27</a>\u001b[0m ax1\u001b[39m.\u001b[39mset_title(\u001b[39m'\u001b[39m\u001b[39mCountry Vs. GDP Per Capita\u001b[39m\u001b[39m'\u001b[39m)\n",
      "File \u001b[1;32mc:\\Users\\gugah\\AppData\\Local\\Programs\\Python\\Python311\\Lib\\site-packages\\pandas\\core\\frame.py:3813\u001b[0m, in \u001b[0;36mDataFrame.__getitem__\u001b[1;34m(self, key)\u001b[0m\n\u001b[0;32m   3811\u001b[0m     \u001b[39mif\u001b[39;00m is_iterator(key):\n\u001b[0;32m   3812\u001b[0m         key \u001b[39m=\u001b[39m \u001b[39mlist\u001b[39m(key)\n\u001b[1;32m-> 3813\u001b[0m     indexer \u001b[39m=\u001b[39m \u001b[39mself\u001b[39;49m\u001b[39m.\u001b[39;49mcolumns\u001b[39m.\u001b[39;49m_get_indexer_strict(key, \u001b[39m\"\u001b[39;49m\u001b[39mcolumns\u001b[39;49m\u001b[39m\"\u001b[39;49m)[\u001b[39m1\u001b[39m]\n\u001b[0;32m   3815\u001b[0m \u001b[39m# take() does not accept boolean indexers\u001b[39;00m\n\u001b[0;32m   3816\u001b[0m \u001b[39mif\u001b[39;00m \u001b[39mgetattr\u001b[39m(indexer, \u001b[39m\"\u001b[39m\u001b[39mdtype\u001b[39m\u001b[39m\"\u001b[39m, \u001b[39mNone\u001b[39;00m) \u001b[39m==\u001b[39m \u001b[39mbool\u001b[39m:\n",
      "File \u001b[1;32mc:\\Users\\gugah\\AppData\\Local\\Programs\\Python\\Python311\\Lib\\site-packages\\pandas\\core\\indexes\\base.py:6070\u001b[0m, in \u001b[0;36mIndex._get_indexer_strict\u001b[1;34m(self, key, axis_name)\u001b[0m\n\u001b[0;32m   6067\u001b[0m \u001b[39melse\u001b[39;00m:\n\u001b[0;32m   6068\u001b[0m     keyarr, indexer, new_indexer \u001b[39m=\u001b[39m \u001b[39mself\u001b[39m\u001b[39m.\u001b[39m_reindex_non_unique(keyarr)\n\u001b[1;32m-> 6070\u001b[0m \u001b[39mself\u001b[39;49m\u001b[39m.\u001b[39;49m_raise_if_missing(keyarr, indexer, axis_name)\n\u001b[0;32m   6072\u001b[0m keyarr \u001b[39m=\u001b[39m \u001b[39mself\u001b[39m\u001b[39m.\u001b[39mtake(indexer)\n\u001b[0;32m   6073\u001b[0m \u001b[39mif\u001b[39;00m \u001b[39misinstance\u001b[39m(key, Index):\n\u001b[0;32m   6074\u001b[0m     \u001b[39m# GH 42790 - Preserve name from an Index\u001b[39;00m\n",
      "File \u001b[1;32mc:\\Users\\gugah\\AppData\\Local\\Programs\\Python\\Python311\\Lib\\site-packages\\pandas\\core\\indexes\\base.py:6130\u001b[0m, in \u001b[0;36mIndex._raise_if_missing\u001b[1;34m(self, key, indexer, axis_name)\u001b[0m\n\u001b[0;32m   6128\u001b[0m     \u001b[39mif\u001b[39;00m use_interval_msg:\n\u001b[0;32m   6129\u001b[0m         key \u001b[39m=\u001b[39m \u001b[39mlist\u001b[39m(key)\n\u001b[1;32m-> 6130\u001b[0m     \u001b[39mraise\u001b[39;00m \u001b[39mKeyError\u001b[39;00m(\u001b[39mf\u001b[39m\u001b[39m\"\u001b[39m\u001b[39mNone of [\u001b[39m\u001b[39m{\u001b[39;00mkey\u001b[39m}\u001b[39;00m\u001b[39m] are in the [\u001b[39m\u001b[39m{\u001b[39;00maxis_name\u001b[39m}\u001b[39;00m\u001b[39m]\u001b[39m\u001b[39m\"\u001b[39m)\n\u001b[0;32m   6132\u001b[0m not_found \u001b[39m=\u001b[39m \u001b[39mlist\u001b[39m(ensure_index(key)[missing_mask\u001b[39m.\u001b[39mnonzero()[\u001b[39m0\u001b[39m]]\u001b[39m.\u001b[39munique())\n\u001b[0;32m   6133\u001b[0m \u001b[39mraise\u001b[39;00m \u001b[39mKeyError\u001b[39;00m(\u001b[39mf\u001b[39m\u001b[39m\"\u001b[39m\u001b[39m{\u001b[39;00mnot_found\u001b[39m}\u001b[39;00m\u001b[39m not in index\u001b[39m\u001b[39m\"\u001b[39m)\n",
      "\u001b[1;31mKeyError\u001b[0m: \"None of [Index(['country', 'gdp_per_capita'], dtype='object')] are in the [columns]\""
     ]
    }
   ],
   "source": [
    "import tkinter as tk\n",
    "import pandas as pd\n",
    "import matplotlib.pyplot as plt\n",
    "from matplotlib.backends.backend_tkagg import FigureCanvasTkAgg\n",
    "\n",
    "data1 = pd.read_csv(\"turista.csv\", encoding='iso-8859-1')\n",
    "df1 = pd.DataFrame(data1)\n",
    "\n",
    "\n",
    "root = tk.Tk()\n",
    "\n",
    "figure1 = plt.Figure(figsize=(6, 5), dpi=100)\n",
    "ax1 = figure1.add_subplot(111)\n",
    "bar1 = FigureCanvasTkAgg(figure1, root)\n",
    "bar1.get_tk_widget().pack(side=tk.LEFT, fill=tk.BOTH)\n",
    "df1 = df1[['country', 'gdp_per_capita']].groupby('country').sum()\n",
    "df1.plot(kind='bar', legend=True, ax=ax1)\n",
    "ax1.set_title('Country Vs. GDP Per Capita')\n",
    "\n",
    "\n",
    "\n",
    "root.mainloop()"
   ]
  },
  {
   "cell_type": "code",
   "execution_count": null,
   "metadata": {},
   "outputs": [],
   "source": [
    "data2 = {'year': [1920, 1930, 1940, 1950, 1960, 1970, 1980, 1990, 2000, 2010],\n",
    "         'unemployment_rate': [9.8, 12, 8, 7.2, 6.9, 7, 6.5, 6.2, 5.5, 6.3]\n",
    "         }  \n",
    "df2 = pd.DataFrame(data2)\n",
    "\n",
    "data3 = {'interest_rate': [5, 5.5, 6, 5.5, 5.25, 6.5, 7, 8, 7.5, 8.5],\n",
    "         'index_price': [1500, 1520, 1525, 1523, 1515, 1540, 1545, 1560, 1555, 1565]\n",
    "         }\n",
    "df3 = pd.DataFrame(data3)"
   ]
  },
  {
   "cell_type": "code",
   "execution_count": null,
   "metadata": {},
   "outputs": [],
   "source": [
    "figure2 = plt.Figure(figsize=(5, 4), dpi=100)\n",
    "ax2 = figure2.add_subplot(111)\n",
    "line2 = FigureCanvasTkAgg(figure2, root)\n",
    "line2.get_tk_widget().pack(side=tk.LEFT, fill=tk.BOTH)\n",
    "df2 = df2[['year', 'unemployment_rate']].groupby('year').sum()\n",
    "df2.plot(kind='line', legend=True, ax=ax2, color='r', marker='o', fontsize=10)\n",
    "ax2.set_title('Year Vs. Unemployment Rate')\n",
    "\n",
    "figure3 = plt.Figure(figsize=(5, 4), dpi=100)\n",
    "ax3 = figure3.add_subplot(111)\n",
    "ax3.scatter(df3['interest_rate'], df3['index_price'], color='g')\n",
    "scatter3 = FigureCanvasTkAgg(figure3, root)\n",
    "scatter3.get_tk_widget().pack(side=tk.LEFT, fill=tk.BOTH)\n",
    "ax3.legend(['index_price'])\n",
    "ax3.set_xlabel('Interest Rate')\n",
    "ax3.set_title('Interest Rate Vs. Index Price')"
   ]
  }
 ],
 "metadata": {
  "kernelspec": {
   "display_name": "Python 3",
   "language": "python",
   "name": "python3"
  },
  "language_info": {
   "codemirror_mode": {
    "name": "ipython",
    "version": 3
   },
   "file_extension": ".py",
   "mimetype": "text/x-python",
   "name": "python",
   "nbconvert_exporter": "python",
   "pygments_lexer": "ipython3",
   "version": "3.11.2"
  }
 },
 "nbformat": 4,
 "nbformat_minor": 2
}
